{
 "cells": [
  {
   "cell_type": "markdown",
   "metadata": {},
   "source": [
    "# WeatherPy\n",
    "----\n",
    "\n",
    "#### Note\n",
    "* Instructions have been included for each segment. You do not have to follow them exactly, but they are included to help you think through the steps."
   ]
  },
  {
   "cell_type": "markdown",
   "metadata": {},
   "source": [
    "# Analysis\n",
    "\n",
    "Temp are tightly correlated to the latitude. Humdidity, cloudiness and Wind speed is weakly correlated to the latitude.\n",
    "Temp drops as latitudes go up on north hemisphere and it drops as latitides go down on south hemisphere (towards the poles on either side of equator). But one important observation is the slope of decay is higher in north than south hemisphere. This is because it is winter season in north and summer in south"
   ]
  },
  {
   "cell_type": "code",
   "execution_count": 1,
   "metadata": {
    "scrolled": false
   },
   "outputs": [
    {
     "name": "stdout",
     "output_type": "stream",
     "text": [
      "<module 'sys' (built-in)>\n"
     ]
    }
   ],
   "source": [
    "# Dependencies and Setup\n",
    "import matplotlib.pyplot as plt\n",
    "import pandas as pd\n",
    "import numpy as np\n",
    "import requests\n",
    "import time\n",
    "import sys\n",
    "import os\n",
    "from scipy.stats import linregress\n",
    "from pprint import pprint\n",
    "\n",
    "sys.path.append('../../')\n",
    "#sys.path.append(os.path.dirname(os.path.abspath(__file__), '..')) //TODO\n",
    "#sys.path.append('/c/Users/igrang/DATACLASS/python-api-challenge')\n",
    "# Import API key\n",
    "from api_keys import weather_api_key\n",
    "print(sys)\n",
    "# Incorporated citipy to determine city based on latitude and longitude\n",
    "from citipy import citipy\n",
    "\n",
    "# Output File (CSV)\n",
    "output_data_file = \"output_data/cities.csv\"\n",
    "\n",
    "# Range of latitudes and longitudes\n",
    "lat_range = (-90, 90)\n",
    "lng_range = (-180, 180)"
   ]
  },
  {
   "cell_type": "markdown",
   "metadata": {},
   "source": [
    "## Generate Cities List"
   ]
  },
  {
   "cell_type": "code",
   "execution_count": 2,
   "metadata": {},
   "outputs": [
    {
     "data": {
      "text/plain": [
       "30"
      ]
     },
     "execution_count": 2,
     "metadata": {},
     "output_type": "execute_result"
    }
   ],
   "source": [
    "# List for holding lat_lngs and cities\n",
    "lat_lngs = []\n",
    "cities = []\n",
    "\n",
    "# Create a set of random lat and lng combinations\n",
    "lats = np.random.uniform(lat_range[0], lat_range[1], size=30)\n",
    "lngs = np.random.uniform(lng_range[0], lng_range[1], size=30)\n",
    "lat_lngs = zip(lats, lngs)\n",
    "\n",
    "# Identify nearest city for each lat, lng combination\n",
    "for lat_lng in lat_lngs:\n",
    "    city = citipy.nearest_city(lat_lng[0], lat_lng[1]).city_name\n",
    "    \n",
    "    # If the city is unique, then add it to a our cities list\n",
    "    if city not in cities:\n",
    "        cities.append(city)\n",
    "\n",
    "# Print the city count to confirm sufficient count\n",
    "len(cities)\n",
    "#cities\n"
   ]
  },
  {
   "cell_type": "markdown",
   "metadata": {},
   "source": [
    "### Perform API Calls\n",
    "* Perform a weather check on each city using a series of successive API calls.\n",
    "* Include a print log of each city as it'sbeing processed (with the city number and city name).\n",
    "\n",
    "> **HINT:** The OpenWeatherMap API only allows 60 calls per minute under their free plan. Try using `time.sleep(60)` after each set of 50 cities to avoid API errors due to large calls."
   ]
  },
  {
   "cell_type": "code",
   "execution_count": 3,
   "metadata": {},
   "outputs": [
    {
     "name": "stdout",
     "output_type": "stream",
     "text": [
      "{'base': 'stations',\n",
      " 'clouds': {'all': 0},\n",
      " 'cod': 200,\n",
      " 'coord': {'lat': 40.5982, 'lon': -124.1573},\n",
      " 'dt': 1642967158,\n",
      " 'id': 5563839,\n",
      " 'main': {'feels_like': 17.4,\n",
      "          'humidity': 49,\n",
      "          'pressure': 1023,\n",
      "          'temp': 18.24,\n",
      "          'temp_max': 21.19,\n",
      "          'temp_min': 16.48},\n",
      " 'name': 'Fortuna',\n",
      " 'sys': {'country': 'US',\n",
      "         'id': 2040243,\n",
      "         'sunrise': 1642952020,\n",
      "         'sunset': 1642987383,\n",
      "         'type': 2},\n",
      " 'timezone': -28800,\n",
      " 'visibility': 10000,\n",
      " 'weather': [{'description': 'clear sky',\n",
      "              'icon': '01d',\n",
      "              'id': 800,\n",
      "              'main': 'Clear'}],\n",
      " 'wind': {'deg': 216, 'gust': 1.86, 'speed': 1.01}}\n"
     ]
    }
   ],
   "source": [
    "# Save config information.\n",
    "url = \"http://api.openweathermap.org/data/2.5/weather?\"\n",
    "units = \"metric\"\n",
    "\n",
    "# Build partial query URL\n",
    "query_url = f\"{url}appid={weather_api_key}&units={units}&q=\"\n",
    "\n",
    "# set up lists to hold reponse info\n",
    "cities_new=[]\n",
    "lat = []\n",
    "temp = []\n",
    "windspeed=[]\n",
    "humidity=[]\n",
    "cloudiness=[]\n",
    "response = requests.get(query_url + city).json()\n",
    "pprint(response)\n"
   ]
  },
  {
   "cell_type": "code",
   "execution_count": 4,
   "metadata": {
    "scrolled": true
   },
   "outputs": [
    {
     "name": "stdout",
     "output_type": "stream",
     "text": [
      "City being querried is provideniya\n",
      "City successfully querried is provideniya\n",
      "City being querried is ushuaia\n",
      "City successfully querried is ushuaia\n",
      "City being querried is bluff\n",
      "City successfully querried is bluff\n",
      "City being querried is grand haven\n",
      "City successfully querried is grand haven\n",
      "City being querried is zhanakorgan\n",
      "City successfully querried is zhanakorgan\n",
      "City being querried is boulsa\n",
      "City successfully querried is boulsa\n",
      "City being querried is rikitea\n",
      "City successfully querried is rikitea\n",
      "City being querried is guerrero negro\n",
      "City successfully querried is guerrero negro\n",
      "City being querried is krasnoborsk\n",
      "City successfully querried is krasnoborsk\n",
      "City being querried is kidodi\n",
      "City successfully querried is kidodi\n",
      "City being querried is samusu\n",
      " we got 'coord' error\n",
      "City being querried is ilulissat\n",
      "City successfully querried is ilulissat\n",
      "City being querried is coahuayana\n",
      "City successfully querried is coahuayana\n",
      "City being querried is vaini\n",
      "City successfully querried is vaini\n",
      "City being querried is hermanus\n",
      "City successfully querried is hermanus\n",
      "City being querried is pervomayskoye\n",
      "City successfully querried is pervomayskoye\n",
      "City being querried is jiayuguan\n",
      "City successfully querried is jiayuguan\n",
      "City being querried is vallenar\n",
      "City successfully querried is vallenar\n",
      "City being querried is chuy\n",
      "City successfully querried is chuy\n",
      "City being querried is yellowknife\n",
      "City successfully querried is yellowknife\n",
      "City being querried is port alfred\n",
      "City successfully querried is port alfred\n",
      "City being querried is tasiilaq\n",
      "City successfully querried is tasiilaq\n",
      "City being querried is new norfolk\n",
      "City successfully querried is new norfolk\n",
      "City being querried is kapaa\n",
      "City successfully querried is kapaa\n",
      "City being querried is puerto ayora\n",
      "City successfully querried is puerto ayora\n",
      "City being querried is khatanga\n",
      "City successfully querried is khatanga\n",
      "City being querried is los llanos de aridane\n",
      "City successfully querried is los llanos de aridane\n",
      "City being querried is cape town\n",
      "City successfully querried is cape town\n",
      "City being querried is belushya guba\n",
      " we got 'coord' error\n",
      "City being querried is fortuna\n",
      "City successfully querried is fortuna\n",
      "The latitude information received is: [64.3833, -54.8, -46.6, 43.0631, 43.9098, 12.6675, -23.1203, 27.9769, 61.5598, -7.6036, 69.2167, 18.7333, -21.2, -34.4187, 43.919, 39.8167, -28.5708, -33.6971, 62.456, -33.5906, 65.6145, -42.7826, 22.0752, -0.7393, 71.9667, 28.6585, -33.9258, 40.5982]\n",
      "The temperature information received is: [-14.4, 14.81, 12.11, -4.95, -3.81, 23.02, 25.82, 18.83, -11.17, 23.22, -11.99, 31.71, 27.09, 20.5, 1.6, -7.26, 28.16, 25.79, -26.99, 23.82, -8.91, 16.53, 23.99, 27.98, -29.78, 17.86, 21.6, 21.19]\n"
     ]
    }
   ],
   "source": [
    "# Loop through the list of cities and perform a request for data on each\n",
    "i=0\n",
    "for city in cities:\n",
    "    i=i+1\n",
    "    if (i % 60 == 0):\n",
    "        time.sleep(60)\n",
    "    print(f\"City being querried is {city}\")\n",
    "    response = requests.get(query_url + city).json()\n",
    "    try:\n",
    "        lat.append(response['coord']['lat'])\n",
    "        temp.append(response['main']['temp_max'])\n",
    "        windspeed.append(response[\"wind\"][\"speed\"])\n",
    "        humidity.append(response[\"main\"][\"humidity\"])\n",
    "        cloudiness.append(response[\"clouds\"][\"all\"])\n",
    "        cities_new.append(city)\n",
    "        print(f\"City successfully querried is {city}\")\n",
    "    except Exception as e:\n",
    "        print(f\" we got {e} error\")\n",
    "        pass\n",
    "print(f\"The latitude information received is: {lat}\")\n",
    "print(f\"The temperature information received is: {temp}\")"
   ]
  },
  {
   "cell_type": "markdown",
   "metadata": {},
   "source": [
    "### Convert Raw Data to DataFrame\n",
    "* Export the city data into a .csv.\n",
    "* Display the DataFrame"
   ]
  },
  {
   "cell_type": "code",
   "execution_count": 5,
   "metadata": {},
   "outputs": [
    {
     "data": {
      "text/html": [
       "<div>\n",
       "<style scoped>\n",
       "    .dataframe tbody tr th:only-of-type {\n",
       "        vertical-align: middle;\n",
       "    }\n",
       "\n",
       "    .dataframe tbody tr th {\n",
       "        vertical-align: top;\n",
       "    }\n",
       "\n",
       "    .dataframe thead th {\n",
       "        text-align: right;\n",
       "    }\n",
       "</style>\n",
       "<table border=\"1\" class=\"dataframe\">\n",
       "  <thead>\n",
       "    <tr style=\"text-align: right;\">\n",
       "      <th></th>\n",
       "      <th>city</th>\n",
       "      <th>lat</th>\n",
       "      <th>temp</th>\n",
       "      <th>humidity</th>\n",
       "      <th>cloudiness</th>\n",
       "      <th>windspeed</th>\n",
       "    </tr>\n",
       "  </thead>\n",
       "  <tbody>\n",
       "    <tr>\n",
       "      <th>0</th>\n",
       "      <td>provideniya</td>\n",
       "      <td>64.3833</td>\n",
       "      <td>-14.40</td>\n",
       "      <td>97</td>\n",
       "      <td>100</td>\n",
       "      <td>3.36</td>\n",
       "    </tr>\n",
       "    <tr>\n",
       "      <th>1</th>\n",
       "      <td>ushuaia</td>\n",
       "      <td>-54.8000</td>\n",
       "      <td>14.81</td>\n",
       "      <td>51</td>\n",
       "      <td>75</td>\n",
       "      <td>2.57</td>\n",
       "    </tr>\n",
       "    <tr>\n",
       "      <th>2</th>\n",
       "      <td>bluff</td>\n",
       "      <td>-46.6000</td>\n",
       "      <td>12.11</td>\n",
       "      <td>65</td>\n",
       "      <td>97</td>\n",
       "      <td>1.49</td>\n",
       "    </tr>\n",
       "    <tr>\n",
       "      <th>3</th>\n",
       "      <td>grand haven</td>\n",
       "      <td>43.0631</td>\n",
       "      <td>-4.95</td>\n",
       "      <td>52</td>\n",
       "      <td>100</td>\n",
       "      <td>1.79</td>\n",
       "    </tr>\n",
       "    <tr>\n",
       "      <th>4</th>\n",
       "      <td>zhanakorgan</td>\n",
       "      <td>43.9098</td>\n",
       "      <td>-3.81</td>\n",
       "      <td>85</td>\n",
       "      <td>7</td>\n",
       "      <td>1.63</td>\n",
       "    </tr>\n",
       "    <tr>\n",
       "      <th>5</th>\n",
       "      <td>boulsa</td>\n",
       "      <td>12.6675</td>\n",
       "      <td>23.02</td>\n",
       "      <td>12</td>\n",
       "      <td>0</td>\n",
       "      <td>4.52</td>\n",
       "    </tr>\n",
       "    <tr>\n",
       "      <th>6</th>\n",
       "      <td>rikitea</td>\n",
       "      <td>-23.1203</td>\n",
       "      <td>25.82</td>\n",
       "      <td>74</td>\n",
       "      <td>96</td>\n",
       "      <td>7.11</td>\n",
       "    </tr>\n",
       "    <tr>\n",
       "      <th>7</th>\n",
       "      <td>guerrero negro</td>\n",
       "      <td>27.9769</td>\n",
       "      <td>18.83</td>\n",
       "      <td>42</td>\n",
       "      <td>56</td>\n",
       "      <td>2.54</td>\n",
       "    </tr>\n",
       "    <tr>\n",
       "      <th>8</th>\n",
       "      <td>krasnoborsk</td>\n",
       "      <td>61.5598</td>\n",
       "      <td>-11.17</td>\n",
       "      <td>93</td>\n",
       "      <td>100</td>\n",
       "      <td>2.99</td>\n",
       "    </tr>\n",
       "    <tr>\n",
       "      <th>9</th>\n",
       "      <td>kidodi</td>\n",
       "      <td>-7.6036</td>\n",
       "      <td>23.22</td>\n",
       "      <td>88</td>\n",
       "      <td>100</td>\n",
       "      <td>1.14</td>\n",
       "    </tr>\n",
       "    <tr>\n",
       "      <th>10</th>\n",
       "      <td>ilulissat</td>\n",
       "      <td>69.2167</td>\n",
       "      <td>-11.99</td>\n",
       "      <td>61</td>\n",
       "      <td>100</td>\n",
       "      <td>4.63</td>\n",
       "    </tr>\n",
       "    <tr>\n",
       "      <th>11</th>\n",
       "      <td>coahuayana</td>\n",
       "      <td>18.7333</td>\n",
       "      <td>31.71</td>\n",
       "      <td>37</td>\n",
       "      <td>85</td>\n",
       "      <td>3.20</td>\n",
       "    </tr>\n",
       "    <tr>\n",
       "      <th>12</th>\n",
       "      <td>vaini</td>\n",
       "      <td>-21.2000</td>\n",
       "      <td>27.09</td>\n",
       "      <td>83</td>\n",
       "      <td>20</td>\n",
       "      <td>3.09</td>\n",
       "    </tr>\n",
       "    <tr>\n",
       "      <th>13</th>\n",
       "      <td>hermanus</td>\n",
       "      <td>-34.4187</td>\n",
       "      <td>20.50</td>\n",
       "      <td>92</td>\n",
       "      <td>36</td>\n",
       "      <td>2.81</td>\n",
       "    </tr>\n",
       "    <tr>\n",
       "      <th>14</th>\n",
       "      <td>pervomayskoye</td>\n",
       "      <td>43.9190</td>\n",
       "      <td>1.60</td>\n",
       "      <td>88</td>\n",
       "      <td>19</td>\n",
       "      <td>2.38</td>\n",
       "    </tr>\n",
       "    <tr>\n",
       "      <th>15</th>\n",
       "      <td>jiayuguan</td>\n",
       "      <td>39.8167</td>\n",
       "      <td>-7.26</td>\n",
       "      <td>56</td>\n",
       "      <td>39</td>\n",
       "      <td>0.69</td>\n",
       "    </tr>\n",
       "    <tr>\n",
       "      <th>16</th>\n",
       "      <td>vallenar</td>\n",
       "      <td>-28.5708</td>\n",
       "      <td>28.16</td>\n",
       "      <td>34</td>\n",
       "      <td>100</td>\n",
       "      <td>4.41</td>\n",
       "    </tr>\n",
       "    <tr>\n",
       "      <th>17</th>\n",
       "      <td>chuy</td>\n",
       "      <td>-33.6971</td>\n",
       "      <td>25.79</td>\n",
       "      <td>84</td>\n",
       "      <td>94</td>\n",
       "      <td>5.87</td>\n",
       "    </tr>\n",
       "    <tr>\n",
       "      <th>18</th>\n",
       "      <td>yellowknife</td>\n",
       "      <td>62.4560</td>\n",
       "      <td>-26.99</td>\n",
       "      <td>76</td>\n",
       "      <td>75</td>\n",
       "      <td>4.12</td>\n",
       "    </tr>\n",
       "    <tr>\n",
       "      <th>19</th>\n",
       "      <td>port alfred</td>\n",
       "      <td>-33.5906</td>\n",
       "      <td>23.82</td>\n",
       "      <td>74</td>\n",
       "      <td>0</td>\n",
       "      <td>11.92</td>\n",
       "    </tr>\n",
       "    <tr>\n",
       "      <th>20</th>\n",
       "      <td>tasiilaq</td>\n",
       "      <td>65.6145</td>\n",
       "      <td>-8.91</td>\n",
       "      <td>50</td>\n",
       "      <td>85</td>\n",
       "      <td>7.30</td>\n",
       "    </tr>\n",
       "    <tr>\n",
       "      <th>21</th>\n",
       "      <td>new norfolk</td>\n",
       "      <td>-42.7826</td>\n",
       "      <td>16.53</td>\n",
       "      <td>74</td>\n",
       "      <td>93</td>\n",
       "      <td>0.88</td>\n",
       "    </tr>\n",
       "    <tr>\n",
       "      <th>22</th>\n",
       "      <td>kapaa</td>\n",
       "      <td>22.0752</td>\n",
       "      <td>23.99</td>\n",
       "      <td>83</td>\n",
       "      <td>75</td>\n",
       "      <td>2.57</td>\n",
       "    </tr>\n",
       "    <tr>\n",
       "      <th>23</th>\n",
       "      <td>puerto ayora</td>\n",
       "      <td>-0.7393</td>\n",
       "      <td>27.98</td>\n",
       "      <td>80</td>\n",
       "      <td>100</td>\n",
       "      <td>5.17</td>\n",
       "    </tr>\n",
       "    <tr>\n",
       "      <th>24</th>\n",
       "      <td>khatanga</td>\n",
       "      <td>71.9667</td>\n",
       "      <td>-29.78</td>\n",
       "      <td>100</td>\n",
       "      <td>100</td>\n",
       "      <td>0.96</td>\n",
       "    </tr>\n",
       "    <tr>\n",
       "      <th>25</th>\n",
       "      <td>los llanos de aridane</td>\n",
       "      <td>28.6585</td>\n",
       "      <td>17.86</td>\n",
       "      <td>96</td>\n",
       "      <td>75</td>\n",
       "      <td>0.89</td>\n",
       "    </tr>\n",
       "    <tr>\n",
       "      <th>26</th>\n",
       "      <td>cape town</td>\n",
       "      <td>-33.9258</td>\n",
       "      <td>21.60</td>\n",
       "      <td>87</td>\n",
       "      <td>75</td>\n",
       "      <td>1.79</td>\n",
       "    </tr>\n",
       "    <tr>\n",
       "      <th>27</th>\n",
       "      <td>fortuna</td>\n",
       "      <td>40.5982</td>\n",
       "      <td>21.19</td>\n",
       "      <td>49</td>\n",
       "      <td>0</td>\n",
       "      <td>1.01</td>\n",
       "    </tr>\n",
       "  </tbody>\n",
       "</table>\n",
       "</div>"
      ],
      "text/plain": [
       "                     city      lat   temp  humidity  cloudiness  windspeed\n",
       "0             provideniya  64.3833 -14.40        97         100       3.36\n",
       "1                 ushuaia -54.8000  14.81        51          75       2.57\n",
       "2                   bluff -46.6000  12.11        65          97       1.49\n",
       "3             grand haven  43.0631  -4.95        52         100       1.79\n",
       "4             zhanakorgan  43.9098  -3.81        85           7       1.63\n",
       "5                  boulsa  12.6675  23.02        12           0       4.52\n",
       "6                 rikitea -23.1203  25.82        74          96       7.11\n",
       "7          guerrero negro  27.9769  18.83        42          56       2.54\n",
       "8             krasnoborsk  61.5598 -11.17        93         100       2.99\n",
       "9                  kidodi  -7.6036  23.22        88         100       1.14\n",
       "10              ilulissat  69.2167 -11.99        61         100       4.63\n",
       "11             coahuayana  18.7333  31.71        37          85       3.20\n",
       "12                  vaini -21.2000  27.09        83          20       3.09\n",
       "13               hermanus -34.4187  20.50        92          36       2.81\n",
       "14          pervomayskoye  43.9190   1.60        88          19       2.38\n",
       "15              jiayuguan  39.8167  -7.26        56          39       0.69\n",
       "16               vallenar -28.5708  28.16        34         100       4.41\n",
       "17                   chuy -33.6971  25.79        84          94       5.87\n",
       "18            yellowknife  62.4560 -26.99        76          75       4.12\n",
       "19            port alfred -33.5906  23.82        74           0      11.92\n",
       "20               tasiilaq  65.6145  -8.91        50          85       7.30\n",
       "21            new norfolk -42.7826  16.53        74          93       0.88\n",
       "22                  kapaa  22.0752  23.99        83          75       2.57\n",
       "23           puerto ayora  -0.7393  27.98        80         100       5.17\n",
       "24               khatanga  71.9667 -29.78       100         100       0.96\n",
       "25  los llanos de aridane  28.6585  17.86        96          75       0.89\n",
       "26              cape town -33.9258  21.60        87          75       1.79\n",
       "27                fortuna  40.5982  21.19        49           0       1.01"
      ]
     },
     "execution_count": 5,
     "metadata": {},
     "output_type": "execute_result"
    }
   ],
   "source": [
    "weather_dict = {\n",
    "    \"city\": cities_new,\n",
    "    \"lat\": lat,\n",
    "    \"temp\": temp,\n",
    "    \"humidity\":humidity,\n",
    "    \"cloudiness\":cloudiness,\n",
    "    \"windspeed\":windspeed\n",
    "}\n",
    "weather_data = pd.DataFrame(weather_dict)\n",
    "weather_data\n"
   ]
  },
  {
   "cell_type": "code",
   "execution_count": null,
   "metadata": {},
   "outputs": [],
   "source": [
    "\n"
   ]
  },
  {
   "cell_type": "markdown",
   "metadata": {},
   "source": [
    "## Inspect the data and remove the cities where the humidity > 100%.\n",
    "----\n",
    "Skip this step if there are no cities that have humidity > 100%. "
   ]
  },
  {
   "cell_type": "code",
   "execution_count": 6,
   "metadata": {},
   "outputs": [
    {
     "data": {
      "text/plain": [
       "100"
      ]
     },
     "execution_count": 6,
     "metadata": {},
     "output_type": "execute_result"
    }
   ],
   "source": [
    "weather_data[\"humidity\"].max()"
   ]
  },
  {
   "cell_type": "code",
   "execution_count": 7,
   "metadata": {},
   "outputs": [
    {
     "name": "stdout",
     "output_type": "stream",
     "text": [
      "Empty DataFrame\n",
      "Columns: [city, lat, temp, humidity, cloudiness, windspeed]\n",
      "Index: []\n"
     ]
    }
   ],
   "source": [
    "#  Get the indices of cities that have humidity over 100%.\n",
    "print(weather_data.loc[weather_data[\"humidity\"] > 100])"
   ]
  },
  {
   "cell_type": "code",
   "execution_count": 8,
   "metadata": {},
   "outputs": [
    {
     "data": {
      "text/html": [
       "<div>\n",
       "<style scoped>\n",
       "    .dataframe tbody tr th:only-of-type {\n",
       "        vertical-align: middle;\n",
       "    }\n",
       "\n",
       "    .dataframe tbody tr th {\n",
       "        vertical-align: top;\n",
       "    }\n",
       "\n",
       "    .dataframe thead th {\n",
       "        text-align: right;\n",
       "    }\n",
       "</style>\n",
       "<table border=\"1\" class=\"dataframe\">\n",
       "  <thead>\n",
       "    <tr style=\"text-align: right;\">\n",
       "      <th></th>\n",
       "      <th>city</th>\n",
       "      <th>lat</th>\n",
       "      <th>temp</th>\n",
       "      <th>humidity</th>\n",
       "      <th>cloudiness</th>\n",
       "      <th>windspeed</th>\n",
       "    </tr>\n",
       "  </thead>\n",
       "  <tbody>\n",
       "    <tr>\n",
       "      <th>0</th>\n",
       "      <td>provideniya</td>\n",
       "      <td>64.3833</td>\n",
       "      <td>-14.40</td>\n",
       "      <td>97</td>\n",
       "      <td>100</td>\n",
       "      <td>3.36</td>\n",
       "    </tr>\n",
       "    <tr>\n",
       "      <th>1</th>\n",
       "      <td>ushuaia</td>\n",
       "      <td>-54.8000</td>\n",
       "      <td>14.81</td>\n",
       "      <td>51</td>\n",
       "      <td>75</td>\n",
       "      <td>2.57</td>\n",
       "    </tr>\n",
       "    <tr>\n",
       "      <th>2</th>\n",
       "      <td>bluff</td>\n",
       "      <td>-46.6000</td>\n",
       "      <td>12.11</td>\n",
       "      <td>65</td>\n",
       "      <td>97</td>\n",
       "      <td>1.49</td>\n",
       "    </tr>\n",
       "    <tr>\n",
       "      <th>3</th>\n",
       "      <td>grand haven</td>\n",
       "      <td>43.0631</td>\n",
       "      <td>-4.95</td>\n",
       "      <td>52</td>\n",
       "      <td>100</td>\n",
       "      <td>1.79</td>\n",
       "    </tr>\n",
       "    <tr>\n",
       "      <th>4</th>\n",
       "      <td>zhanakorgan</td>\n",
       "      <td>43.9098</td>\n",
       "      <td>-3.81</td>\n",
       "      <td>85</td>\n",
       "      <td>7</td>\n",
       "      <td>1.63</td>\n",
       "    </tr>\n",
       "    <tr>\n",
       "      <th>5</th>\n",
       "      <td>boulsa</td>\n",
       "      <td>12.6675</td>\n",
       "      <td>23.02</td>\n",
       "      <td>12</td>\n",
       "      <td>0</td>\n",
       "      <td>4.52</td>\n",
       "    </tr>\n",
       "    <tr>\n",
       "      <th>6</th>\n",
       "      <td>rikitea</td>\n",
       "      <td>-23.1203</td>\n",
       "      <td>25.82</td>\n",
       "      <td>74</td>\n",
       "      <td>96</td>\n",
       "      <td>7.11</td>\n",
       "    </tr>\n",
       "    <tr>\n",
       "      <th>7</th>\n",
       "      <td>guerrero negro</td>\n",
       "      <td>27.9769</td>\n",
       "      <td>18.83</td>\n",
       "      <td>42</td>\n",
       "      <td>56</td>\n",
       "      <td>2.54</td>\n",
       "    </tr>\n",
       "    <tr>\n",
       "      <th>8</th>\n",
       "      <td>krasnoborsk</td>\n",
       "      <td>61.5598</td>\n",
       "      <td>-11.17</td>\n",
       "      <td>93</td>\n",
       "      <td>100</td>\n",
       "      <td>2.99</td>\n",
       "    </tr>\n",
       "    <tr>\n",
       "      <th>9</th>\n",
       "      <td>kidodi</td>\n",
       "      <td>-7.6036</td>\n",
       "      <td>23.22</td>\n",
       "      <td>88</td>\n",
       "      <td>100</td>\n",
       "      <td>1.14</td>\n",
       "    </tr>\n",
       "    <tr>\n",
       "      <th>10</th>\n",
       "      <td>ilulissat</td>\n",
       "      <td>69.2167</td>\n",
       "      <td>-11.99</td>\n",
       "      <td>61</td>\n",
       "      <td>100</td>\n",
       "      <td>4.63</td>\n",
       "    </tr>\n",
       "    <tr>\n",
       "      <th>11</th>\n",
       "      <td>coahuayana</td>\n",
       "      <td>18.7333</td>\n",
       "      <td>31.71</td>\n",
       "      <td>37</td>\n",
       "      <td>85</td>\n",
       "      <td>3.20</td>\n",
       "    </tr>\n",
       "    <tr>\n",
       "      <th>12</th>\n",
       "      <td>vaini</td>\n",
       "      <td>-21.2000</td>\n",
       "      <td>27.09</td>\n",
       "      <td>83</td>\n",
       "      <td>20</td>\n",
       "      <td>3.09</td>\n",
       "    </tr>\n",
       "    <tr>\n",
       "      <th>13</th>\n",
       "      <td>hermanus</td>\n",
       "      <td>-34.4187</td>\n",
       "      <td>20.50</td>\n",
       "      <td>92</td>\n",
       "      <td>36</td>\n",
       "      <td>2.81</td>\n",
       "    </tr>\n",
       "    <tr>\n",
       "      <th>14</th>\n",
       "      <td>pervomayskoye</td>\n",
       "      <td>43.9190</td>\n",
       "      <td>1.60</td>\n",
       "      <td>88</td>\n",
       "      <td>19</td>\n",
       "      <td>2.38</td>\n",
       "    </tr>\n",
       "    <tr>\n",
       "      <th>15</th>\n",
       "      <td>jiayuguan</td>\n",
       "      <td>39.8167</td>\n",
       "      <td>-7.26</td>\n",
       "      <td>56</td>\n",
       "      <td>39</td>\n",
       "      <td>0.69</td>\n",
       "    </tr>\n",
       "    <tr>\n",
       "      <th>16</th>\n",
       "      <td>vallenar</td>\n",
       "      <td>-28.5708</td>\n",
       "      <td>28.16</td>\n",
       "      <td>34</td>\n",
       "      <td>100</td>\n",
       "      <td>4.41</td>\n",
       "    </tr>\n",
       "    <tr>\n",
       "      <th>17</th>\n",
       "      <td>chuy</td>\n",
       "      <td>-33.6971</td>\n",
       "      <td>25.79</td>\n",
       "      <td>84</td>\n",
       "      <td>94</td>\n",
       "      <td>5.87</td>\n",
       "    </tr>\n",
       "    <tr>\n",
       "      <th>18</th>\n",
       "      <td>yellowknife</td>\n",
       "      <td>62.4560</td>\n",
       "      <td>-26.99</td>\n",
       "      <td>76</td>\n",
       "      <td>75</td>\n",
       "      <td>4.12</td>\n",
       "    </tr>\n",
       "    <tr>\n",
       "      <th>19</th>\n",
       "      <td>port alfred</td>\n",
       "      <td>-33.5906</td>\n",
       "      <td>23.82</td>\n",
       "      <td>74</td>\n",
       "      <td>0</td>\n",
       "      <td>11.92</td>\n",
       "    </tr>\n",
       "    <tr>\n",
       "      <th>20</th>\n",
       "      <td>tasiilaq</td>\n",
       "      <td>65.6145</td>\n",
       "      <td>-8.91</td>\n",
       "      <td>50</td>\n",
       "      <td>85</td>\n",
       "      <td>7.30</td>\n",
       "    </tr>\n",
       "    <tr>\n",
       "      <th>21</th>\n",
       "      <td>new norfolk</td>\n",
       "      <td>-42.7826</td>\n",
       "      <td>16.53</td>\n",
       "      <td>74</td>\n",
       "      <td>93</td>\n",
       "      <td>0.88</td>\n",
       "    </tr>\n",
       "    <tr>\n",
       "      <th>22</th>\n",
       "      <td>kapaa</td>\n",
       "      <td>22.0752</td>\n",
       "      <td>23.99</td>\n",
       "      <td>83</td>\n",
       "      <td>75</td>\n",
       "      <td>2.57</td>\n",
       "    </tr>\n",
       "    <tr>\n",
       "      <th>23</th>\n",
       "      <td>puerto ayora</td>\n",
       "      <td>-0.7393</td>\n",
       "      <td>27.98</td>\n",
       "      <td>80</td>\n",
       "      <td>100</td>\n",
       "      <td>5.17</td>\n",
       "    </tr>\n",
       "    <tr>\n",
       "      <th>24</th>\n",
       "      <td>khatanga</td>\n",
       "      <td>71.9667</td>\n",
       "      <td>-29.78</td>\n",
       "      <td>100</td>\n",
       "      <td>100</td>\n",
       "      <td>0.96</td>\n",
       "    </tr>\n",
       "    <tr>\n",
       "      <th>25</th>\n",
       "      <td>los llanos de aridane</td>\n",
       "      <td>28.6585</td>\n",
       "      <td>17.86</td>\n",
       "      <td>96</td>\n",
       "      <td>75</td>\n",
       "      <td>0.89</td>\n",
       "    </tr>\n",
       "    <tr>\n",
       "      <th>26</th>\n",
       "      <td>cape town</td>\n",
       "      <td>-33.9258</td>\n",
       "      <td>21.60</td>\n",
       "      <td>87</td>\n",
       "      <td>75</td>\n",
       "      <td>1.79</td>\n",
       "    </tr>\n",
       "    <tr>\n",
       "      <th>27</th>\n",
       "      <td>fortuna</td>\n",
       "      <td>40.5982</td>\n",
       "      <td>21.19</td>\n",
       "      <td>49</td>\n",
       "      <td>0</td>\n",
       "      <td>1.01</td>\n",
       "    </tr>\n",
       "  </tbody>\n",
       "</table>\n",
       "</div>"
      ],
      "text/plain": [
       "                     city      lat   temp  humidity  cloudiness  windspeed\n",
       "0             provideniya  64.3833 -14.40        97         100       3.36\n",
       "1                 ushuaia -54.8000  14.81        51          75       2.57\n",
       "2                   bluff -46.6000  12.11        65          97       1.49\n",
       "3             grand haven  43.0631  -4.95        52         100       1.79\n",
       "4             zhanakorgan  43.9098  -3.81        85           7       1.63\n",
       "5                  boulsa  12.6675  23.02        12           0       4.52\n",
       "6                 rikitea -23.1203  25.82        74          96       7.11\n",
       "7          guerrero negro  27.9769  18.83        42          56       2.54\n",
       "8             krasnoborsk  61.5598 -11.17        93         100       2.99\n",
       "9                  kidodi  -7.6036  23.22        88         100       1.14\n",
       "10              ilulissat  69.2167 -11.99        61         100       4.63\n",
       "11             coahuayana  18.7333  31.71        37          85       3.20\n",
       "12                  vaini -21.2000  27.09        83          20       3.09\n",
       "13               hermanus -34.4187  20.50        92          36       2.81\n",
       "14          pervomayskoye  43.9190   1.60        88          19       2.38\n",
       "15              jiayuguan  39.8167  -7.26        56          39       0.69\n",
       "16               vallenar -28.5708  28.16        34         100       4.41\n",
       "17                   chuy -33.6971  25.79        84          94       5.87\n",
       "18            yellowknife  62.4560 -26.99        76          75       4.12\n",
       "19            port alfred -33.5906  23.82        74           0      11.92\n",
       "20               tasiilaq  65.6145  -8.91        50          85       7.30\n",
       "21            new norfolk -42.7826  16.53        74          93       0.88\n",
       "22                  kapaa  22.0752  23.99        83          75       2.57\n",
       "23           puerto ayora  -0.7393  27.98        80         100       5.17\n",
       "24               khatanga  71.9667 -29.78       100         100       0.96\n",
       "25  los llanos de aridane  28.6585  17.86        96          75       0.89\n",
       "26              cape town -33.9258  21.60        87          75       1.79\n",
       "27                fortuna  40.5982  21.19        49           0       1.01"
      ]
     },
     "execution_count": 8,
     "metadata": {},
     "output_type": "execute_result"
    }
   ],
   "source": [
    "# Make a new DataFrame equal to the city data to drop all humidity outliers by index.\n",
    "# Passing \"inplace=False\" will make a copy of the city_data DataFrame, which we call \"clean_city_data\".\n",
    "weather_data"
   ]
  },
  {
   "cell_type": "code",
   "execution_count": 9,
   "metadata": {},
   "outputs": [],
   "source": [
    "#Check for rogue value\n",
    "index_names = weather_data[ weather_data['humidity'] > 100 ].index\n",
    "index_names  \n",
    "# drop these row indexes\n",
    "# from dataFrame\n",
    "clean_city_data= weather_data.drop(index_names, inplace = False)\n"
   ]
  },
  {
   "cell_type": "markdown",
   "metadata": {},
   "source": [
    "## Plotting the Data\n",
    "* Use proper labeling of the plots using plot titles (including date of analysis) and axes labels.\n",
    "* Save the plotted figures as .pngs."
   ]
  },
  {
   "cell_type": "markdown",
   "metadata": {},
   "source": [
    "## Latitude vs. Temperature Plot"
   ]
  },
  {
   "cell_type": "code",
   "execution_count": 10,
   "metadata": {
    "scrolled": true
   },
   "outputs": [
    {
     "data": {
      "image/png": "[encoded data removed]",
      "text/plain": [
       "<Figure size 432x288 with 1 Axes>"
      ]
     },
     "metadata": {
      "needs_background": "light"
     },
     "output_type": "display_data"
    }
   ],
   "source": [
    "#plot and save file. Print UTC time \n",
    "x_values = clean_city_data['lat']\n",
    "y_values = clean_city_data['temp']\n",
    "plt.scatter(x_values,y_values)\n",
    "plt.xlabel('Latitude')\n",
    "plt.ylabel('Max Temperature')\n",
    "currenttime=(time.asctime())\n",
    "plt.title(\"Latitude vs Max Temp on  %s \" % currenttime)\n",
    "plt.savefig('Temp.png')\n",
    "plt.show()\n"
   ]
  },
  {
   "cell_type": "markdown",
   "metadata": {},
   "source": [
    "## Latitude vs. Humidity Plot"
   ]
  },
  {
   "cell_type": "code",
   "execution_count": 11,
   "metadata": {},
   "outputs": [
    {
     "data": {
      "image/png": "[encoded data removed]",
      "text/plain": [
       "<Figure size 432x288 with 1 Axes>"
      ]
     },
     "metadata": {
      "needs_background": "light"
     },
     "output_type": "display_data"
    }
   ],
   "source": [
    "x_values = clean_city_data['lat']\n",
    "y_values = clean_city_data['humidity']\n",
    "plt.scatter(x_values,y_values)\n",
    "plt.xlabel('Latitude')\n",
    "plt.ylabel('Humidity')\n",
    "plt.title(\"Latitude vs Humidity on %s\" % currenttime)\n",
    "plt.savefig('Humidity.png')\n",
    "plt.show()\n"
   ]
  },
  {
   "cell_type": "markdown",
   "metadata": {},
   "source": [
    "## Latitude vs. Cloudiness Plot"
   ]
  },
  {
   "cell_type": "code",
   "execution_count": 12,
   "metadata": {},
   "outputs": [
    {
     "data": {
      "image/png": "[encoded data removed]",
      "text/plain": [
       "<Figure size 432x288 with 1 Axes>"
      ]
     },
     "metadata": {
      "needs_background": "light"
     },
     "output_type": "display_data"
    }
   ],
   "source": [
    "x_values = clean_city_data['lat']\n",
    "y_values = clean_city_data['cloudiness']\n",
    "plt.scatter(x_values,y_values)\n",
    "plt.xlabel('Latitude')\n",
    "plt.ylabel('Cloudiness')\n",
    "plt.title(\"Latitude vs Cloudiness on  %s\" % currenttime)\n",
    "plt.savefig('Cloudiness.png')\n",
    "plt.show()\n"
   ]
  },
  {
   "cell_type": "markdown",
   "metadata": {},
   "source": [
    "## Latitude vs. Wind Speed Plot"
   ]
  },
  {
   "cell_type": "code",
   "execution_count": 13,
   "metadata": {},
   "outputs": [
    {
     "data": {
      "image/png": "[encoded data removed]",
      "text/plain": [
       "<Figure size 432x288 with 1 Axes>"
      ]
     },
     "metadata": {
      "needs_background": "light"
     },
     "output_type": "display_data"
    }
   ],
   "source": [
    "x_values = clean_city_data['lat']\n",
    "y_values = clean_city_data['windspeed']\n",
    "plt.scatter(x_values,y_values)\n",
    "plt.xlabel('Latitude')\n",
    "plt.ylabel('Windspeed')\n",
    "plt.title(\"Latitude vs Wind Speed on %s\" % currenttime)\n",
    "plt.savefig('Windspeed.png')\n",
    "plt.show()\n"
   ]
  },
  {
   "cell_type": "markdown",
   "metadata": {},
   "source": [
    "## Linear Regression"
   ]
  },
  {
   "cell_type": "code",
   "execution_count": 14,
   "metadata": {},
   "outputs": [],
   "source": [
    "index_names = clean_city_data[ clean_city_data['lat'] <0 ].index\n",
    "# drop these row indexes\n",
    "# from dataFrame\n",
    "clean_city_data_north= clean_city_data.drop(index_names, inplace = False)\n",
    "index_names = clean_city_data[ clean_city_data['lat'] >= 0 ].index\n",
    "# drop these row indexes\n",
    "# from dataFrame\n",
    "clean_city_data_south= clean_city_data.drop(index_names, inplace = False)\n"
   ]
  },
  {
   "cell_type": "markdown",
   "metadata": {},
   "source": [
    "####  Northern Hemisphere - Max Temp vs. Latitude Linear Regression"
   ]
  },
  {
   "cell_type": "code",
   "execution_count": 15,
   "metadata": {},
   "outputs": [
    {
     "data": {
      "image/png": "[encoded data removed]",
      "text/plain": [
       "<Figure size 432x288 with 1 Axes>"
      ]
     },
     "metadata": {
      "needs_background": "light"
     },
     "output_type": "display_data"
    }
   ],
   "source": [
    "x_values = clean_city_data_north['lat']\n",
    "y_values = clean_city_data_north['temp']\n",
    "(slope,intercept,rvalue,d,e,) = linregress(x_values, y_values)\n",
    "linregress(x_values, y_values)\n",
    "regress_values = x_values * slope + intercept\n",
    "line_eq = \"y = \" + str(round(slope,2)) + \"x + \" + str(round(intercept,2)) + \"  rvalue=\" +str(round(rvalue,2))\n",
    "plt.scatter(x_values,y_values)\n",
    "plt.plot(x_values,regress_values,\"r-\")\n",
    "plt.annotate(line_eq,(20,30),fontsize=15,color=\"red\")\n",
    "plt.xlabel('Latitude')\n",
    "plt.ylabel('Max Temperature')\n",
    "plt.xlim(0, 90)\n",
    "plt.ylim(-40, 40)\n",
    "currenttime=(time.time())\n",
    "plt.title(\"Latitude vs Max Temp on %s\" % currenttime)\n",
    "plt.savefig('Temp_North.png')\n",
    "plt.show()"
   ]
  },
  {
   "cell_type": "markdown",
   "metadata": {},
   "source": [
    "####  Southern Hemisphere - Max Temp vs. Latitude Linear Regression"
   ]
  },
  {
   "cell_type": "code",
   "execution_count": 16,
   "metadata": {},
   "outputs": [
    {
     "data": {
      "image/png": "[encoded data removed]",
      "text/plain": [
       "<Figure size 432x288 with 1 Axes>"
      ]
     },
     "metadata": {
      "needs_background": "light"
     },
     "output_type": "display_data"
    }
   ],
   "source": [
    "x_values = clean_city_data_south['lat']\n",
    "y_values = clean_city_data_south['temp']\n",
    "(slope,intercept,rvalue,d,e,) = linregress(x_values, y_values)\n",
    "linregress(x_values, y_values)\n",
    "regress_values = x_values * slope + intercept\n",
    "line_eq = \"y = \" + str(round(slope,2)) + \"x + \" + str(round(intercept,2)) + \"  rvalue=\" +str(round(rvalue,2))\n",
    "plt.scatter(x_values,y_values)\n",
    "plt.plot(x_values,regress_values,\"r-\")\n",
    "plt.annotate(line_eq,(-80,30),fontsize=15,color=\"red\")\n",
    "plt.xlabel('Latitude')\n",
    "plt.ylabel('Max Temperature')\n",
    "plt.xlim(-90, 0)\n",
    "plt.ylim(-40, 40)\n",
    "currenttime=(time.time())\n",
    "plt.title(\"Latitude vs Max Temp on %s\" % (currenttime))\n",
    "plt.savefig('Temp_South.png')\n",
    "plt.show()"
   ]
  },
  {
   "cell_type": "markdown",
   "metadata": {},
   "source": [
    "####  Northern Hemisphere - Humidity (%) vs. Latitude Linear Regression"
   ]
  },
  {
   "cell_type": "code",
   "execution_count": 23,
   "metadata": {},
   "outputs": [
    {
     "data": {
      "image/png": "[encoded data removed]",
      "text/plain": [
       "<Figure size 432x288 with 1 Axes>"
      ]
     },
     "metadata": {
      "needs_background": "light"
     },
     "output_type": "display_data"
    }
   ],
   "source": [
    "x_values = clean_city_data_north['lat']\n",
    "y_values = clean_city_data_north['humidity']\n",
    "(slope,intercept,rvalue,d,e,) = linregress(x_values, y_values)\n",
    "linregress(x_values, y_values)\n",
    "regress_values = x_values * slope + intercept\n",
    "line_eq = \"y = \" + str(round(slope,2)) + \"x + \" + str(round(intercept,2)) + \"  rvalue=\" +str(round(rvalue,2))\n",
    "plt.scatter(x_values,y_values)\n",
    "plt.plot(x_values,regress_values,\"r-\")\n",
    "plt.annotate(line_eq,(10,90),fontsize=15,color=\"red\")\n",
    "plt.xlabel('Latitude')\n",
    "plt.ylabel('Humidity')\n",
    "plt.xlim(0, 90)\n",
    "plt.ylim(0, 100)\n",
    "currenttime=(time.time())\n",
    "plt.title(\"Latitude vs Humidity on %s\" % (currenttime))\n",
    "plt.savefig('Humidity_North.png')\n",
    "plt.show()"
   ]
  },
  {
   "cell_type": "markdown",
   "metadata": {},
   "source": [
    "####  Southern Hemisphere - Humidity (%) vs. Latitude Linear Regression"
   ]
  },
  {
   "cell_type": "code",
   "execution_count": 25,
   "metadata": {},
   "outputs": [
    {
     "data": {
      "image/png": "[encoded data removed]",
      "text/plain": [
       "<Figure size 432x288 with 1 Axes>"
      ]
     },
     "metadata": {
      "needs_background": "light"
     },
     "output_type": "display_data"
    }
   ],
   "source": [
    "x_values = clean_city_data_south['lat']\n",
    "y_values = clean_city_data_south['humidity']\n",
    "(slope,intercept,rvalue,d,e,) = linregress(x_values, y_values)\n",
    "linregress(x_values, y_values)\n",
    "regress_values = x_values * slope + intercept\n",
    "line_eq = \"y = \" + str(round(slope,2)) + \"x + \" + str(round(intercept,2)) + \"  rvalue=\" +str(round(rvalue,2))\n",
    "plt.scatter(x_values,y_values)\n",
    "plt.plot(x_values,regress_values,\"r-\")\n",
    "plt.annotate(line_eq,(-80,90),fontsize=15,color=\"red\")\n",
    "plt.xlabel('Latitude')\n",
    "plt.ylabel('Humidity')\n",
    "plt.xlim(-90, 0)\n",
    "plt.ylim(0, 100)\n",
    "currenttime=(time.time())\n",
    "plt.title(\"Latitude vs Humidity on %s\" % (currenttime))\n",
    "plt.savefig('Humidity_South.png')\n",
    "plt.show()"
   ]
  },
  {
   "cell_type": "markdown",
   "metadata": {},
   "source": [
    "####  Northern Hemisphere - Cloudiness (%) vs. Latitude Linear Regression"
   ]
  },
  {
   "cell_type": "code",
   "execution_count": 30,
   "metadata": {},
   "outputs": [
    {
     "data": {
      "image/png": "[encoded data removed]",
      "text/plain": [
       "<Figure size 432x288 with 1 Axes>"
      ]
     },
     "metadata": {
      "needs_background": "light"
     },
     "output_type": "display_data"
    }
   ],
   "source": [
    "x_values = clean_city_data_north['lat']\n",
    "y_values = clean_city_data_north['cloudiness']\n",
    "(slope,intercept,rvalue,d,e,) = linregress(x_values, y_values)\n",
    "linregress(x_values, y_values)\n",
    "regress_values = x_values * slope + intercept\n",
    "line_eq = \"y = \" + str(round(slope,2)) + \"x + \" + str(round(intercept,2)) + \"  rvalue=\" +str(round(rvalue,2))\n",
    "plt.scatter(x_values,y_values)\n",
    "plt.plot(x_values,regress_values,\"r-\")\n",
    "plt.annotate(line_eq,(10,20),fontsize=15,color=\"red\")\n",
    "plt.xlabel('Latitude')\n",
    "plt.ylabel('Cloudiness %')\n",
    "plt.xlim(0, 90)\n",
    "plt.ylim(0, 110)\n",
    "currenttime=(time.time())\n",
    "plt.title(\"Latitude vs Cloudiness on %s\" % (currenttime))\n",
    "plt.savefig('Cloudiness_North.png')\n",
    "plt.show()"
   ]
  },
  {
   "cell_type": "markdown",
   "metadata": {},
   "source": [
    "####  Southern Hemisphere - Cloudiness (%) vs. Latitude Linear Regression"
   ]
  },
  {
   "cell_type": "code",
   "execution_count": 31,
   "metadata": {},
   "outputs": [
    {
     "data": {
      "image/png": "[encoded data removed]",
      "text/plain": [
       "<Figure size 432x288 with 1 Axes>"
      ]
     },
     "metadata": {
      "needs_background": "light"
     },
     "output_type": "display_data"
    }
   ],
   "source": [
    "x_values = clean_city_data_south['lat']\n",
    "y_values = clean_city_data_south['humidity']\n",
    "(slope,intercept,rvalue,d,e,) = linregress(x_values, y_values)\n",
    "linregress(x_values, y_values)\n",
    "regress_values = x_values * slope + intercept\n",
    "line_eq = \"y = \" + str(round(slope,2)) + \"x + \" + str(round(intercept,2)) + \"  rvalue=\" +str(round(rvalue,2))\n",
    "plt.scatter(x_values,y_values)\n",
    "plt.plot(x_values,regress_values,\"r-\")\n",
    "plt.annotate(line_eq,(-80,10),fontsize=15,color=\"red\")\n",
    "plt.xlabel('Latitude')\n",
    "plt.ylabel('Cloudiness %')\n",
    "plt.xlim(-90, 0)\n",
    "plt.ylim(0, 110)\n",
    "currenttime=(time.time())\n",
    "plt.title(\"Latitude vs Cloudiness on %s\" % (currenttime))\n",
    "plt.savefig('Cloudiness_South.png')\n",
    "plt.show()"
   ]
  },
  {
   "cell_type": "markdown",
   "metadata": {},
   "source": [
    "####  Northern Hemisphere - Wind Speed (mph) vs. Latitude Linear Regression"
   ]
  },
  {
   "cell_type": "code",
   "execution_count": 38,
   "metadata": {},
   "outputs": [
    {
     "data": {
      "image/png": "[encoded data removed]",
      "text/plain": [
       "<Figure size 432x288 with 1 Axes>"
      ]
     },
     "metadata": {
      "needs_background": "light"
     },
     "output_type": "display_data"
    }
   ],
   "source": [
    "x_values = clean_city_data_north['lat']\n",
    "y_values = clean_city_data_north['windspeed']\n",
    "(slope,intercept,rvalue,d,e,) = linregress(x_values, y_values)\n",
    "linregress(x_values, y_values)\n",
    "regress_values = x_values * slope + intercept\n",
    "line_eq = \"y = \" + str(round(slope,2)) + \"x + \" + str(round(intercept,2)) + \"  rvalue=\" +str(round(rvalue,2))\n",
    "plt.scatter(x_values,y_values)\n",
    "plt.plot(x_values,regress_values,\"r-\")\n",
    "plt.annotate(line_eq,(10,y_values.max()),fontsize=15,color=\"red\")\n",
    "plt.xlabel('Latitude')\n",
    "plt.ylabel('Wind Speed')\n",
    "plt.xlim(0, 90)\n",
    "plt.ylim(0, y_values.max()+1)\n",
    "currenttime=(time.time())\n",
    "plt.title(\"Latitude vs Speed on %s\" % (currenttime))\n",
    "plt.savefig('WindSpeed_North.png')\n",
    "plt.show()"
   ]
  },
  {
   "cell_type": "markdown",
   "metadata": {},
   "source": [
    "####  Southern Hemisphere - Wind Speed (mph) vs. Latitude Linear Regression"
   ]
  },
  {
   "cell_type": "code",
   "execution_count": 36,
   "metadata": {},
   "outputs": [
    {
     "data": {
      "image/png": "[encoded data removed]",
      "text/plain": [
       "<Figure size 432x288 with 1 Axes>"
      ]
     },
     "metadata": {
      "needs_background": "light"
     },
     "output_type": "display_data"
    }
   ],
   "source": [
    "x_values = clean_city_data_south['lat']\n",
    "y_values = clean_city_data_south['windspeed']\n",
    "(slope,intercept,rvalue,d,e,) = linregress(x_values, y_values)\n",
    "linregress(x_values, y_values)\n",
    "regress_values = x_values * slope + intercept\n",
    "line_eq = \"y = \" + str(round(slope,2)) + \"x + \" + str(round(intercept,2)) + \"  rvalue=\" +str(round(rvalue,2))\n",
    "plt.scatter(x_values,y_values)\n",
    "plt.plot(x_values,regress_values,\"r-\")\n",
    "plt.annotate(line_eq,(-80,10),fontsize=15,color=\"red\")\n",
    "plt.xlabel('Latitude')\n",
    "plt.ylabel('Windspeed')\n",
    "plt.xlim(-90, 0)\n",
    "plt.ylim(0, y_values.max()+1)\n",
    "currenttime=(time.time())\n",
    "plt.title(\"Latitude vs wind speed on %s\" % (currenttime))\n",
    "plt.savefig('WindSpeed_South.png')\n",
    "plt.show()"
   ]
  },
  {
   "cell_type": "code",
   "execution_count": null,
   "metadata": {},
   "outputs": [],
   "source": []
  }
 ],
 "metadata": {
  "anaconda-cloud": {},
  "kernel_info": {
   "name": "python3"
  },
  "kernelspec": {
   "display_name": "Python 3",
   "language": "python",
   "name": "python3"
  },
  "language_info": {
   "codemirror_mode": {
    "name": "ipython",
    "version": 3
   },
   "file_extension": ".py",
   "mimetype": "text/x-python",
   "name": "python",
   "nbconvert_exporter": "python",
   "pygments_lexer": "ipython3",
   "version": "3.8.8"
  },
  "latex_envs": {
   "LaTeX_envs_menu_present": true,
   "autoclose": false,
   "autocomplete": true,
   "bibliofile": "biblio.bib",
   "cite_by": "apalike",
   "current_citInitial": 1,
   "eqLabelWithNumbers": true,
   "eqNumInitial": 1,
   "hotkeys": {
    "equation": "Ctrl-E",
    "itemize": "Ctrl-I"
   },
   "labels_anchors": false,
   "latex_user_defs": false,
   "report_style_numbering": false,
   "user_envs_cfg": false
  },
  "nteract": {
   "version": "0.12.3"
  }
 },
 "nbformat": 4,
 "nbformat_minor": 2
}
