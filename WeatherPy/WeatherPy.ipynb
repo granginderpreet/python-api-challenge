{
 "cells": [
  {
   "cell_type": "markdown",
   "metadata": {},
   "source": [
    "# WeatherPy\n",
    "----\n",
    "\n",
    "#### Note\n",
    "* Instructions have been included for each segment. You do not have to follow them exactly, but they are included to help you think through the steps."
   ]
  },
  {
   "cell_type": "markdown",
   "metadata": {},
   "source": [
    "# Analysis\n",
    "\n",
    "Temp are tightly correlated to the latitude. Humdidity, cloudiness and Wind speed is weakly correlated to the latitude.\n",
    "Temp drops as latitudes go up on north hemisphere and it drops as latitides go down on south hemisphere (towards the poles on either side of equator). But one important observation is the slope of decay is higher in north than south hemisphere. This is because it is winter season in north and summer in south"
   ]
  },
  {
   "cell_type": "code",
   "execution_count": 34,
   "metadata": {
    "scrolled": false
   },
   "outputs": [
    {
     "name": "stdout",
     "output_type": "stream",
     "text": [
      "<module 'sys' (built-in)>\n"
     ]
    }
   ],
   "source": [
    "# Dependencies and Setup\n",
    "import matplotlib.pyplot as plt\n",
    "import pandas as pd\n",
    "import numpy as np\n",
    "import requests\n",
    "import time\n",
    "import sys\n",
    "import os\n",
    "from scipy.stats import linregress\n",
    "from pprint import pprint\n",
    "\n",
    "sys.path.append('../../')\n",
    "#sys.path.append(os.path.dirname(os.path.abspath(__file__), '..')) //TODO\n",
    "#sys.path.append('/c/Users/igrang/DATACLASS/python-api-challenge')\n",
    "# Import API key\n",
    "from api_keys import weather_api_key\n",
    "print(sys)\n",
    "# Incorporated citipy to determine city based on latitude and longitude\n",
    "from citipy import citipy\n",
    "\n",
    "# Output File (CSV)\n",
    "output_data_file = \"output_data/cities.csv\"\n",
    "\n",
    "# Range of latitudes and longitudes\n",
    "lat_range = (-90, 90)\n",
    "lng_range = (-180, 180)"
   ]
  },
  {
   "cell_type": "markdown",
   "metadata": {},
   "source": [
    "## Generate Cities List"
   ]
  },
  {
   "cell_type": "code",
   "execution_count": 35,
   "metadata": {},
   "outputs": [
    {
     "data": {
      "text/plain": [
       "28"
      ]
     },
     "execution_count": 35,
     "metadata": {},
     "output_type": "execute_result"
    }
   ],
   "source": [
    "# List for holding lat_lngs and cities\n",
    "lat_lngs = []\n",
    "cities = []\n",
    "\n",
    "# Create a set of random lat and lng combinations\n",
    "lats = np.random.uniform(lat_range[0], lat_range[1], size=1500)\n",
    "lngs = np.random.uniform(lng_range[0], lng_range[1], size=1500)\n",
    "lat_lngs = zip(lats, lngs)\n",
    "\n",
    "# Identify nearest city for each lat, lng combination\n",
    "for lat_lng in lat_lngs:\n",
    "    city = citipy.nearest_city(lat_lng[0], lat_lng[1]).city_name\n",
    "    \n",
    "    # If the city is unique, then add it to a our cities list\n",
    "    if city not in cities:\n",
    "        cities.append(city)\n",
    "\n",
    "# Print the city count to confirm sufficient count\n",
    "len(cities)\n",
    "#cities\n"
   ]
  },
  {
   "cell_type": "markdown",
   "metadata": {},
   "source": [
    "### Perform API Calls\n",
    "* Perform a weather check on each city using a series of successive API calls.\n",
    "* Include a print log of each city as it'sbeing processed (with the city number and city name).\n",
    "\n",
    "> **HINT:** The OpenWeatherMap API only allows 60 calls per minute under their free plan. Try using `time.sleep(60)` after each set of 50 cities to avoid API errors due to large calls."
   ]
  },
  {
   "cell_type": "code",
   "execution_count": 36,
   "metadata": {},
   "outputs": [
    {
     "name": "stdout",
     "output_type": "stream",
     "text": [
      "{'base': 'stations',\n",
      " 'clouds': {'all': 100},\n",
      " 'cod': 200,\n",
      " 'coord': {'lat': 41.7057, 'lon': -70.2286},\n",
      " 'dt': 1643014750,\n",
      " 'id': 4956335,\n",
      " 'main': {'feels_like': -6.83,\n",
      "          'humidity': 82,\n",
      "          'pressure': 1008,\n",
      "          'temp': -1.57,\n",
      "          'temp_max': 0.05,\n",
      "          'temp_min': -4.94},\n",
      " 'name': 'Yarmouth',\n",
      " 'sys': {'country': 'US',\n",
      "         'id': 2009541,\n",
      "         'sunrise': 1643025607,\n",
      "         'sunset': 1643060736,\n",
      "         'type': 2},\n",
      " 'timezone': -18000,\n",
      " 'visibility': 10000,\n",
      " 'weather': [{'description': 'overcast clouds',\n",
      "              'icon': '04n',\n",
      "              'id': 804,\n",
      "              'main': 'Clouds'}],\n",
      " 'wind': {'deg': 292, 'gust': 6.71, 'speed': 4.92}}\n"
     ]
    }
   ],
   "source": [
    "# Save config information.\n",
    "url = \"http://api.openweathermap.org/data/2.5/weather?\"\n",
    "units = \"metric\"\n",
    "\n",
    "# Build partial query URL\n",
    "query_url = f\"{url}appid={weather_api_key}&units={units}&q=\"\n",
    "\n",
    "# set up lists to hold reponse info\n",
    "cities_new=[]\n",
    "lat = []\n",
    "lon = []\n",
    "temp = []\n",
    "windspeed=[]\n",
    "humidity=[]\n",
    "cloudiness=[]\n",
    "response = requests.get(query_url + city).json()\n",
    "pprint(response)\n"
   ]
  },
  {
   "cell_type": "code",
   "execution_count": 37,
   "metadata": {
    "scrolled": true
   },
   "outputs": [
    {
     "name": "stdout",
     "output_type": "stream",
     "text": [
      "City being querried is punta arenas\n",
      "City successfully querried is punta arenas\n",
      "City being querried is cockburn town\n",
      "City successfully querried is cockburn town\n",
      "City being querried is mar del plata\n",
      "City successfully querried is mar del plata\n",
      "City being querried is imbituba\n",
      "City successfully querried is imbituba\n",
      "City being querried is san quintin\n",
      "City successfully querried is san quintin\n",
      "City being querried is victoria\n",
      "City successfully querried is victoria\n",
      "City being querried is busselton\n",
      "City successfully querried is busselton\n",
      "City being querried is bangassou\n",
      "City successfully querried is bangassou\n",
      "City being querried is thompson\n",
      "City successfully querried is thompson\n",
      "City being querried is orlik\n",
      "City successfully querried is orlik\n",
      "City being querried is katsuura\n",
      "City successfully querried is katsuura\n",
      "City being querried is kodiak\n",
      "City successfully querried is kodiak\n",
      "City being querried is palabuhanratu\n",
      " we got 'coord' error\n",
      "City being querried is hobart\n",
      "City successfully querried is hobart\n",
      "City being querried is hasaki\n",
      "City successfully querried is hasaki\n",
      "City being querried is pevek\n",
      "City successfully querried is pevek\n",
      "City being querried is chokurdakh\n",
      "City successfully querried is chokurdakh\n",
      "City being querried is naze\n",
      "City successfully querried is naze\n",
      "City being querried is airai\n",
      "City successfully querried is airai\n",
      "City being querried is qaanaaq\n",
      "City successfully querried is qaanaaq\n",
      "City being querried is cairns\n",
      "City successfully querried is cairns\n",
      "City being querried is yar-sale\n",
      "City successfully querried is yar-sale\n",
      "City being querried is pocos de caldas\n",
      "City successfully querried is pocos de caldas\n",
      "City being querried is taolanaro\n",
      " we got 'coord' error\n",
      "City being querried is palanga\n",
      "City successfully querried is palanga\n",
      "City being querried is mataura\n",
      "City successfully querried is mataura\n",
      "City being querried is watsa\n",
      "City successfully querried is watsa\n",
      "City being querried is yarmouth\n",
      "City successfully querried is yarmouth\n"
     ]
    }
   ],
   "source": [
    "# Loop through the list of cities and perform a request for data on each\n",
    "i=0\n",
    "for city in cities:\n",
    "    i=i+1\n",
    "    if (i % 60 == 0):\n",
    "        time.sleep(60)\n",
    "    print(f\"City being querried is {city}\")\n",
    "    response = requests.get(query_url + city).json()\n",
    "    try:\n",
    "        lat.append(response['coord']['lat'])\n",
    "        lon.append(response['coord']['lon'])\n",
    "        temp.append(response['main']['temp_max'])\n",
    "        windspeed.append(response[\"wind\"][\"speed\"])\n",
    "        humidity.append(response[\"main\"][\"humidity\"])\n",
    "        cloudiness.append(response[\"clouds\"][\"all\"])\n",
    "        cities_new.append(city)\n",
    "        print(f\"City successfully querried is {city}\")\n",
    "    except Exception as e:\n",
    "        print(f\" we got {e} error\")\n",
    "        pass\n"
   ]
  },
  {
   "cell_type": "markdown",
   "metadata": {},
   "source": [
    "### Convert Raw Data to DataFrame\n",
    "* Export the city data into a .csv.\n",
    "* Display the DataFrame"
   ]
  },
  {
   "cell_type": "code",
   "execution_count": 38,
   "metadata": {},
   "outputs": [],
   "source": [
    "output_data_file = \"output_data/cities.csv\"\n",
    "#dict={\"City\":cities_new}\n",
    "#df = pd.DataFrame(dict) \n",
    "#df.to_csv(output_data_file)\n",
    "#cities_new"
   ]
  },
  {
   "cell_type": "code",
   "execution_count": 60,
   "metadata": {},
   "outputs": [
    {
     "data": {
      "text/html": [
       "<div>\n",
       "<style scoped>\n",
       "    .dataframe tbody tr th:only-of-type {\n",
       "        vertical-align: middle;\n",
       "    }\n",
       "\n",
       "    .dataframe tbody tr th {\n",
       "        vertical-align: top;\n",
       "    }\n",
       "\n",
       "    .dataframe thead th {\n",
       "        text-align: right;\n",
       "    }\n",
       "</style>\n",
       "<table border=\"1\" class=\"dataframe\">\n",
       "  <thead>\n",
       "    <tr style=\"text-align: right;\">\n",
       "      <th></th>\n",
       "      <th>city</th>\n",
       "      <th>lat</th>\n",
       "      <th>lon</th>\n",
       "      <th>temp</th>\n",
       "      <th>humidity</th>\n",
       "      <th>cloudiness</th>\n",
       "      <th>windspeed</th>\n",
       "    </tr>\n",
       "  </thead>\n",
       "  <tbody>\n",
       "    <tr>\n",
       "      <th>0</th>\n",
       "      <td>punta arenas</td>\n",
       "      <td>-53.1500</td>\n",
       "      <td>-70.9167</td>\n",
       "      <td>9.06</td>\n",
       "      <td>66</td>\n",
       "      <td>40</td>\n",
       "      <td>5.14</td>\n",
       "    </tr>\n",
       "    <tr>\n",
       "      <th>1</th>\n",
       "      <td>cockburn town</td>\n",
       "      <td>21.4612</td>\n",
       "      <td>-71.1419</td>\n",
       "      <td>25.26</td>\n",
       "      <td>75</td>\n",
       "      <td>0</td>\n",
       "      <td>6.13</td>\n",
       "    </tr>\n",
       "    <tr>\n",
       "      <th>2</th>\n",
       "      <td>mar del plata</td>\n",
       "      <td>-38.0023</td>\n",
       "      <td>-57.5575</td>\n",
       "      <td>21.72</td>\n",
       "      <td>91</td>\n",
       "      <td>0</td>\n",
       "      <td>3.13</td>\n",
       "    </tr>\n",
       "    <tr>\n",
       "      <th>3</th>\n",
       "      <td>imbituba</td>\n",
       "      <td>-28.2400</td>\n",
       "      <td>-48.6703</td>\n",
       "      <td>26.57</td>\n",
       "      <td>86</td>\n",
       "      <td>73</td>\n",
       "      <td>4.61</td>\n",
       "    </tr>\n",
       "    <tr>\n",
       "      <th>4</th>\n",
       "      <td>san quintin</td>\n",
       "      <td>30.4833</td>\n",
       "      <td>-115.9500</td>\n",
       "      <td>14.08</td>\n",
       "      <td>62</td>\n",
       "      <td>2</td>\n",
       "      <td>1.07</td>\n",
       "    </tr>\n",
       "    <tr>\n",
       "      <th>5</th>\n",
       "      <td>victoria</td>\n",
       "      <td>22.2855</td>\n",
       "      <td>114.1577</td>\n",
       "      <td>22.32</td>\n",
       "      <td>86</td>\n",
       "      <td>100</td>\n",
       "      <td>0.89</td>\n",
       "    </tr>\n",
       "    <tr>\n",
       "      <th>6</th>\n",
       "      <td>busselton</td>\n",
       "      <td>-33.6500</td>\n",
       "      <td>115.3333</td>\n",
       "      <td>27.27</td>\n",
       "      <td>40</td>\n",
       "      <td>0</td>\n",
       "      <td>9.23</td>\n",
       "    </tr>\n",
       "    <tr>\n",
       "      <th>7</th>\n",
       "      <td>bangassou</td>\n",
       "      <td>4.7413</td>\n",
       "      <td>22.8184</td>\n",
       "      <td>33.80</td>\n",
       "      <td>17</td>\n",
       "      <td>10</td>\n",
       "      <td>1.95</td>\n",
       "    </tr>\n",
       "    <tr>\n",
       "      <th>8</th>\n",
       "      <td>thompson</td>\n",
       "      <td>55.7435</td>\n",
       "      <td>-97.8558</td>\n",
       "      <td>-29.91</td>\n",
       "      <td>69</td>\n",
       "      <td>0</td>\n",
       "      <td>4.12</td>\n",
       "    </tr>\n",
       "    <tr>\n",
       "      <th>9</th>\n",
       "      <td>orlik</td>\n",
       "      <td>52.5178</td>\n",
       "      <td>99.8250</td>\n",
       "      <td>-14.93</td>\n",
       "      <td>89</td>\n",
       "      <td>100</td>\n",
       "      <td>0.15</td>\n",
       "    </tr>\n",
       "    <tr>\n",
       "      <th>10</th>\n",
       "      <td>katsuura</td>\n",
       "      <td>35.1333</td>\n",
       "      <td>140.3000</td>\n",
       "      <td>8.39</td>\n",
       "      <td>55</td>\n",
       "      <td>95</td>\n",
       "      <td>10.39</td>\n",
       "    </tr>\n",
       "    <tr>\n",
       "      <th>11</th>\n",
       "      <td>kodiak</td>\n",
       "      <td>57.7900</td>\n",
       "      <td>-152.4072</td>\n",
       "      <td>4.25</td>\n",
       "      <td>96</td>\n",
       "      <td>100</td>\n",
       "      <td>13.92</td>\n",
       "    </tr>\n",
       "    <tr>\n",
       "      <th>12</th>\n",
       "      <td>hobart</td>\n",
       "      <td>-42.8794</td>\n",
       "      <td>147.3294</td>\n",
       "      <td>22.37</td>\n",
       "      <td>75</td>\n",
       "      <td>75</td>\n",
       "      <td>0.45</td>\n",
       "    </tr>\n",
       "    <tr>\n",
       "      <th>13</th>\n",
       "      <td>hasaki</td>\n",
       "      <td>35.7333</td>\n",
       "      <td>140.8333</td>\n",
       "      <td>6.22</td>\n",
       "      <td>56</td>\n",
       "      <td>54</td>\n",
       "      <td>11.50</td>\n",
       "    </tr>\n",
       "    <tr>\n",
       "      <th>14</th>\n",
       "      <td>pevek</td>\n",
       "      <td>69.7008</td>\n",
       "      <td>170.3133</td>\n",
       "      <td>-27.09</td>\n",
       "      <td>97</td>\n",
       "      <td>100</td>\n",
       "      <td>8.00</td>\n",
       "    </tr>\n",
       "    <tr>\n",
       "      <th>15</th>\n",
       "      <td>chokurdakh</td>\n",
       "      <td>70.6333</td>\n",
       "      <td>147.9167</td>\n",
       "      <td>-30.46</td>\n",
       "      <td>99</td>\n",
       "      <td>100</td>\n",
       "      <td>2.53</td>\n",
       "    </tr>\n",
       "    <tr>\n",
       "      <th>16</th>\n",
       "      <td>naze</td>\n",
       "      <td>28.3667</td>\n",
       "      <td>129.4833</td>\n",
       "      <td>17.51</td>\n",
       "      <td>79</td>\n",
       "      <td>85</td>\n",
       "      <td>7.07</td>\n",
       "    </tr>\n",
       "    <tr>\n",
       "      <th>17</th>\n",
       "      <td>airai</td>\n",
       "      <td>-8.9266</td>\n",
       "      <td>125.4092</td>\n",
       "      <td>20.25</td>\n",
       "      <td>78</td>\n",
       "      <td>100</td>\n",
       "      <td>1.04</td>\n",
       "    </tr>\n",
       "    <tr>\n",
       "      <th>18</th>\n",
       "      <td>qaanaaq</td>\n",
       "      <td>77.4840</td>\n",
       "      <td>-69.3632</td>\n",
       "      <td>-20.19</td>\n",
       "      <td>98</td>\n",
       "      <td>100</td>\n",
       "      <td>2.05</td>\n",
       "    </tr>\n",
       "    <tr>\n",
       "      <th>19</th>\n",
       "      <td>cairns</td>\n",
       "      <td>-16.9167</td>\n",
       "      <td>145.7667</td>\n",
       "      <td>28.97</td>\n",
       "      <td>73</td>\n",
       "      <td>100</td>\n",
       "      <td>4.12</td>\n",
       "    </tr>\n",
       "    <tr>\n",
       "      <th>20</th>\n",
       "      <td>yar-sale</td>\n",
       "      <td>66.8333</td>\n",
       "      <td>70.8333</td>\n",
       "      <td>-16.04</td>\n",
       "      <td>96</td>\n",
       "      <td>55</td>\n",
       "      <td>5.54</td>\n",
       "    </tr>\n",
       "    <tr>\n",
       "      <th>21</th>\n",
       "      <td>pocos de caldas</td>\n",
       "      <td>-21.7878</td>\n",
       "      <td>-46.5614</td>\n",
       "      <td>16.35</td>\n",
       "      <td>96</td>\n",
       "      <td>3</td>\n",
       "      <td>1.51</td>\n",
       "    </tr>\n",
       "    <tr>\n",
       "      <th>22</th>\n",
       "      <td>palanga</td>\n",
       "      <td>55.9175</td>\n",
       "      <td>21.0686</td>\n",
       "      <td>3.01</td>\n",
       "      <td>93</td>\n",
       "      <td>100</td>\n",
       "      <td>5.14</td>\n",
       "    </tr>\n",
       "    <tr>\n",
       "      <th>23</th>\n",
       "      <td>mataura</td>\n",
       "      <td>-46.1927</td>\n",
       "      <td>168.8643</td>\n",
       "      <td>9.26</td>\n",
       "      <td>84</td>\n",
       "      <td>34</td>\n",
       "      <td>0.99</td>\n",
       "    </tr>\n",
       "    <tr>\n",
       "      <th>24</th>\n",
       "      <td>watsa</td>\n",
       "      <td>3.0372</td>\n",
       "      <td>29.5355</td>\n",
       "      <td>29.06</td>\n",
       "      <td>31</td>\n",
       "      <td>56</td>\n",
       "      <td>2.10</td>\n",
       "    </tr>\n",
       "    <tr>\n",
       "      <th>25</th>\n",
       "      <td>yarmouth</td>\n",
       "      <td>41.7057</td>\n",
       "      <td>-70.2286</td>\n",
       "      <td>0.05</td>\n",
       "      <td>82</td>\n",
       "      <td>100</td>\n",
       "      <td>4.92</td>\n",
       "    </tr>\n",
       "  </tbody>\n",
       "</table>\n",
       "</div>"
      ],
      "text/plain": [
       "               city      lat       lon   temp  humidity  cloudiness  windspeed\n",
       "0      punta arenas -53.1500  -70.9167   9.06        66          40       5.14\n",
       "1     cockburn town  21.4612  -71.1419  25.26        75           0       6.13\n",
       "2     mar del plata -38.0023  -57.5575  21.72        91           0       3.13\n",
       "3          imbituba -28.2400  -48.6703  26.57        86          73       4.61\n",
       "4       san quintin  30.4833 -115.9500  14.08        62           2       1.07\n",
       "5          victoria  22.2855  114.1577  22.32        86         100       0.89\n",
       "6         busselton -33.6500  115.3333  27.27        40           0       9.23\n",
       "7         bangassou   4.7413   22.8184  33.80        17          10       1.95\n",
       "8          thompson  55.7435  -97.8558 -29.91        69           0       4.12\n",
       "9             orlik  52.5178   99.8250 -14.93        89         100       0.15\n",
       "10         katsuura  35.1333  140.3000   8.39        55          95      10.39\n",
       "11           kodiak  57.7900 -152.4072   4.25        96         100      13.92\n",
       "12           hobart -42.8794  147.3294  22.37        75          75       0.45\n",
       "13           hasaki  35.7333  140.8333   6.22        56          54      11.50\n",
       "14            pevek  69.7008  170.3133 -27.09        97         100       8.00\n",
       "15       chokurdakh  70.6333  147.9167 -30.46        99         100       2.53\n",
       "16             naze  28.3667  129.4833  17.51        79          85       7.07\n",
       "17            airai  -8.9266  125.4092  20.25        78         100       1.04\n",
       "18          qaanaaq  77.4840  -69.3632 -20.19        98         100       2.05\n",
       "19           cairns -16.9167  145.7667  28.97        73         100       4.12\n",
       "20         yar-sale  66.8333   70.8333 -16.04        96          55       5.54\n",
       "21  pocos de caldas -21.7878  -46.5614  16.35        96           3       1.51\n",
       "22          palanga  55.9175   21.0686   3.01        93         100       5.14\n",
       "23          mataura -46.1927  168.8643   9.26        84          34       0.99\n",
       "24            watsa   3.0372   29.5355  29.06        31          56       2.10\n",
       "25         yarmouth  41.7057  -70.2286   0.05        82         100       4.92"
      ]
     },
     "execution_count": 60,
     "metadata": {},
     "output_type": "execute_result"
    }
   ],
   "source": [
    "weather_dict = {\n",
    "    \"city\": cities_new,\n",
    "    \"lat\": lat,\n",
    "    \"lon\":lon,\n",
    "    \"temp\": temp,\n",
    "    \"humidity\":humidity,\n",
    "    \"cloudiness\":cloudiness,\n",
    "    \"windspeed\":windspeed\n",
    "}\n",
    "weather_data = pd.DataFrame(weather_dict) \n",
    "weather_data.to_csv(output_data_file)\n",
    "weather_data"
   ]
  },
  {
   "cell_type": "code",
   "execution_count": null,
   "metadata": {},
   "outputs": [],
   "source": [
    "\n"
   ]
  },
  {
   "cell_type": "markdown",
   "metadata": {},
   "source": [
    "## Inspect the data and remove the cities where the humidity > 100%.\n",
    "----\n",
    "Skip this step if there are no cities that have humidity > 100%. "
   ]
  },
  {
   "cell_type": "code",
   "execution_count": 61,
   "metadata": {},
   "outputs": [
    {
     "data": {
      "text/plain": [
       "99"
      ]
     },
     "execution_count": 61,
     "metadata": {},
     "output_type": "execute_result"
    }
   ],
   "source": [
    "weather_data[\"humidity\"].max()"
   ]
  },
  {
   "cell_type": "code",
   "execution_count": 62,
   "metadata": {},
   "outputs": [
    {
     "name": "stdout",
     "output_type": "stream",
     "text": [
      "Empty DataFrame\n",
      "Columns: [city, lat, lon, temp, humidity, cloudiness, windspeed]\n",
      "Index: []\n"
     ]
    }
   ],
   "source": [
    "#  Get the indices of cities that have humidity over 100%.\n",
    "print(weather_data.loc[weather_data[\"humidity\"] > 100])"
   ]
  },
  {
   "cell_type": "code",
   "execution_count": 63,
   "metadata": {},
   "outputs": [
    {
     "data": {
      "text/html": [
       "<div>\n",
       "<style scoped>\n",
       "    .dataframe tbody tr th:only-of-type {\n",
       "        vertical-align: middle;\n",
       "    }\n",
       "\n",
       "    .dataframe tbody tr th {\n",
       "        vertical-align: top;\n",
       "    }\n",
       "\n",
       "    .dataframe thead th {\n",
       "        text-align: right;\n",
       "    }\n",
       "</style>\n",
       "<table border=\"1\" class=\"dataframe\">\n",
       "  <thead>\n",
       "    <tr style=\"text-align: right;\">\n",
       "      <th></th>\n",
       "      <th>city</th>\n",
       "      <th>lat</th>\n",
       "      <th>lon</th>\n",
       "      <th>temp</th>\n",
       "      <th>humidity</th>\n",
       "      <th>cloudiness</th>\n",
       "      <th>windspeed</th>\n",
       "    </tr>\n",
       "  </thead>\n",
       "  <tbody>\n",
       "    <tr>\n",
       "      <th>0</th>\n",
       "      <td>punta arenas</td>\n",
       "      <td>-53.1500</td>\n",
       "      <td>-70.9167</td>\n",
       "      <td>9.06</td>\n",
       "      <td>66</td>\n",
       "      <td>40</td>\n",
       "      <td>5.14</td>\n",
       "    </tr>\n",
       "    <tr>\n",
       "      <th>1</th>\n",
       "      <td>cockburn town</td>\n",
       "      <td>21.4612</td>\n",
       "      <td>-71.1419</td>\n",
       "      <td>25.26</td>\n",
       "      <td>75</td>\n",
       "      <td>0</td>\n",
       "      <td>6.13</td>\n",
       "    </tr>\n",
       "    <tr>\n",
       "      <th>2</th>\n",
       "      <td>mar del plata</td>\n",
       "      <td>-38.0023</td>\n",
       "      <td>-57.5575</td>\n",
       "      <td>21.72</td>\n",
       "      <td>91</td>\n",
       "      <td>0</td>\n",
       "      <td>3.13</td>\n",
       "    </tr>\n",
       "    <tr>\n",
       "      <th>3</th>\n",
       "      <td>imbituba</td>\n",
       "      <td>-28.2400</td>\n",
       "      <td>-48.6703</td>\n",
       "      <td>26.57</td>\n",
       "      <td>86</td>\n",
       "      <td>73</td>\n",
       "      <td>4.61</td>\n",
       "    </tr>\n",
       "    <tr>\n",
       "      <th>4</th>\n",
       "      <td>san quintin</td>\n",
       "      <td>30.4833</td>\n",
       "      <td>-115.9500</td>\n",
       "      <td>14.08</td>\n",
       "      <td>62</td>\n",
       "      <td>2</td>\n",
       "      <td>1.07</td>\n",
       "    </tr>\n",
       "    <tr>\n",
       "      <th>5</th>\n",
       "      <td>victoria</td>\n",
       "      <td>22.2855</td>\n",
       "      <td>114.1577</td>\n",
       "      <td>22.32</td>\n",
       "      <td>86</td>\n",
       "      <td>100</td>\n",
       "      <td>0.89</td>\n",
       "    </tr>\n",
       "    <tr>\n",
       "      <th>6</th>\n",
       "      <td>busselton</td>\n",
       "      <td>-33.6500</td>\n",
       "      <td>115.3333</td>\n",
       "      <td>27.27</td>\n",
       "      <td>40</td>\n",
       "      <td>0</td>\n",
       "      <td>9.23</td>\n",
       "    </tr>\n",
       "    <tr>\n",
       "      <th>7</th>\n",
       "      <td>bangassou</td>\n",
       "      <td>4.7413</td>\n",
       "      <td>22.8184</td>\n",
       "      <td>33.80</td>\n",
       "      <td>17</td>\n",
       "      <td>10</td>\n",
       "      <td>1.95</td>\n",
       "    </tr>\n",
       "    <tr>\n",
       "      <th>8</th>\n",
       "      <td>thompson</td>\n",
       "      <td>55.7435</td>\n",
       "      <td>-97.8558</td>\n",
       "      <td>-29.91</td>\n",
       "      <td>69</td>\n",
       "      <td>0</td>\n",
       "      <td>4.12</td>\n",
       "    </tr>\n",
       "    <tr>\n",
       "      <th>9</th>\n",
       "      <td>orlik</td>\n",
       "      <td>52.5178</td>\n",
       "      <td>99.8250</td>\n",
       "      <td>-14.93</td>\n",
       "      <td>89</td>\n",
       "      <td>100</td>\n",
       "      <td>0.15</td>\n",
       "    </tr>\n",
       "    <tr>\n",
       "      <th>10</th>\n",
       "      <td>katsuura</td>\n",
       "      <td>35.1333</td>\n",
       "      <td>140.3000</td>\n",
       "      <td>8.39</td>\n",
       "      <td>55</td>\n",
       "      <td>95</td>\n",
       "      <td>10.39</td>\n",
       "    </tr>\n",
       "    <tr>\n",
       "      <th>11</th>\n",
       "      <td>kodiak</td>\n",
       "      <td>57.7900</td>\n",
       "      <td>-152.4072</td>\n",
       "      <td>4.25</td>\n",
       "      <td>96</td>\n",
       "      <td>100</td>\n",
       "      <td>13.92</td>\n",
       "    </tr>\n",
       "    <tr>\n",
       "      <th>12</th>\n",
       "      <td>hobart</td>\n",
       "      <td>-42.8794</td>\n",
       "      <td>147.3294</td>\n",
       "      <td>22.37</td>\n",
       "      <td>75</td>\n",
       "      <td>75</td>\n",
       "      <td>0.45</td>\n",
       "    </tr>\n",
       "    <tr>\n",
       "      <th>13</th>\n",
       "      <td>hasaki</td>\n",
       "      <td>35.7333</td>\n",
       "      <td>140.8333</td>\n",
       "      <td>6.22</td>\n",
       "      <td>56</td>\n",
       "      <td>54</td>\n",
       "      <td>11.50</td>\n",
       "    </tr>\n",
       "    <tr>\n",
       "      <th>14</th>\n",
       "      <td>pevek</td>\n",
       "      <td>69.7008</td>\n",
       "      <td>170.3133</td>\n",
       "      <td>-27.09</td>\n",
       "      <td>97</td>\n",
       "      <td>100</td>\n",
       "      <td>8.00</td>\n",
       "    </tr>\n",
       "    <tr>\n",
       "      <th>15</th>\n",
       "      <td>chokurdakh</td>\n",
       "      <td>70.6333</td>\n",
       "      <td>147.9167</td>\n",
       "      <td>-30.46</td>\n",
       "      <td>99</td>\n",
       "      <td>100</td>\n",
       "      <td>2.53</td>\n",
       "    </tr>\n",
       "    <tr>\n",
       "      <th>16</th>\n",
       "      <td>naze</td>\n",
       "      <td>28.3667</td>\n",
       "      <td>129.4833</td>\n",
       "      <td>17.51</td>\n",
       "      <td>79</td>\n",
       "      <td>85</td>\n",
       "      <td>7.07</td>\n",
       "    </tr>\n",
       "    <tr>\n",
       "      <th>17</th>\n",
       "      <td>airai</td>\n",
       "      <td>-8.9266</td>\n",
       "      <td>125.4092</td>\n",
       "      <td>20.25</td>\n",
       "      <td>78</td>\n",
       "      <td>100</td>\n",
       "      <td>1.04</td>\n",
       "    </tr>\n",
       "    <tr>\n",
       "      <th>18</th>\n",
       "      <td>qaanaaq</td>\n",
       "      <td>77.4840</td>\n",
       "      <td>-69.3632</td>\n",
       "      <td>-20.19</td>\n",
       "      <td>98</td>\n",
       "      <td>100</td>\n",
       "      <td>2.05</td>\n",
       "    </tr>\n",
       "    <tr>\n",
       "      <th>19</th>\n",
       "      <td>cairns</td>\n",
       "      <td>-16.9167</td>\n",
       "      <td>145.7667</td>\n",
       "      <td>28.97</td>\n",
       "      <td>73</td>\n",
       "      <td>100</td>\n",
       "      <td>4.12</td>\n",
       "    </tr>\n",
       "    <tr>\n",
       "      <th>20</th>\n",
       "      <td>yar-sale</td>\n",
       "      <td>66.8333</td>\n",
       "      <td>70.8333</td>\n",
       "      <td>-16.04</td>\n",
       "      <td>96</td>\n",
       "      <td>55</td>\n",
       "      <td>5.54</td>\n",
       "    </tr>\n",
       "    <tr>\n",
       "      <th>21</th>\n",
       "      <td>pocos de caldas</td>\n",
       "      <td>-21.7878</td>\n",
       "      <td>-46.5614</td>\n",
       "      <td>16.35</td>\n",
       "      <td>96</td>\n",
       "      <td>3</td>\n",
       "      <td>1.51</td>\n",
       "    </tr>\n",
       "    <tr>\n",
       "      <th>22</th>\n",
       "      <td>palanga</td>\n",
       "      <td>55.9175</td>\n",
       "      <td>21.0686</td>\n",
       "      <td>3.01</td>\n",
       "      <td>93</td>\n",
       "      <td>100</td>\n",
       "      <td>5.14</td>\n",
       "    </tr>\n",
       "    <tr>\n",
       "      <th>23</th>\n",
       "      <td>mataura</td>\n",
       "      <td>-46.1927</td>\n",
       "      <td>168.8643</td>\n",
       "      <td>9.26</td>\n",
       "      <td>84</td>\n",
       "      <td>34</td>\n",
       "      <td>0.99</td>\n",
       "    </tr>\n",
       "    <tr>\n",
       "      <th>24</th>\n",
       "      <td>watsa</td>\n",
       "      <td>3.0372</td>\n",
       "      <td>29.5355</td>\n",
       "      <td>29.06</td>\n",
       "      <td>31</td>\n",
       "      <td>56</td>\n",
       "      <td>2.10</td>\n",
       "    </tr>\n",
       "    <tr>\n",
       "      <th>25</th>\n",
       "      <td>yarmouth</td>\n",
       "      <td>41.7057</td>\n",
       "      <td>-70.2286</td>\n",
       "      <td>0.05</td>\n",
       "      <td>82</td>\n",
       "      <td>100</td>\n",
       "      <td>4.92</td>\n",
       "    </tr>\n",
       "  </tbody>\n",
       "</table>\n",
       "</div>"
      ],
      "text/plain": [
       "               city      lat       lon   temp  humidity  cloudiness  windspeed\n",
       "0      punta arenas -53.1500  -70.9167   9.06        66          40       5.14\n",
       "1     cockburn town  21.4612  -71.1419  25.26        75           0       6.13\n",
       "2     mar del plata -38.0023  -57.5575  21.72        91           0       3.13\n",
       "3          imbituba -28.2400  -48.6703  26.57        86          73       4.61\n",
       "4       san quintin  30.4833 -115.9500  14.08        62           2       1.07\n",
       "5          victoria  22.2855  114.1577  22.32        86         100       0.89\n",
       "6         busselton -33.6500  115.3333  27.27        40           0       9.23\n",
       "7         bangassou   4.7413   22.8184  33.80        17          10       1.95\n",
       "8          thompson  55.7435  -97.8558 -29.91        69           0       4.12\n",
       "9             orlik  52.5178   99.8250 -14.93        89         100       0.15\n",
       "10         katsuura  35.1333  140.3000   8.39        55          95      10.39\n",
       "11           kodiak  57.7900 -152.4072   4.25        96         100      13.92\n",
       "12           hobart -42.8794  147.3294  22.37        75          75       0.45\n",
       "13           hasaki  35.7333  140.8333   6.22        56          54      11.50\n",
       "14            pevek  69.7008  170.3133 -27.09        97         100       8.00\n",
       "15       chokurdakh  70.6333  147.9167 -30.46        99         100       2.53\n",
       "16             naze  28.3667  129.4833  17.51        79          85       7.07\n",
       "17            airai  -8.9266  125.4092  20.25        78         100       1.04\n",
       "18          qaanaaq  77.4840  -69.3632 -20.19        98         100       2.05\n",
       "19           cairns -16.9167  145.7667  28.97        73         100       4.12\n",
       "20         yar-sale  66.8333   70.8333 -16.04        96          55       5.54\n",
       "21  pocos de caldas -21.7878  -46.5614  16.35        96           3       1.51\n",
       "22          palanga  55.9175   21.0686   3.01        93         100       5.14\n",
       "23          mataura -46.1927  168.8643   9.26        84          34       0.99\n",
       "24            watsa   3.0372   29.5355  29.06        31          56       2.10\n",
       "25         yarmouth  41.7057  -70.2286   0.05        82         100       4.92"
      ]
     },
     "execution_count": 63,
     "metadata": {},
     "output_type": "execute_result"
    }
   ],
   "source": [
    "# Make a new DataFrame equal to the city data to drop all humidity outliers by index.\n",
    "# Passing \"inplace=False\" will make a copy of the city_data DataFrame, which we call \"clean_city_data\".\n",
    "weather_data"
   ]
  },
  {
   "cell_type": "code",
   "execution_count": 64,
   "metadata": {},
   "outputs": [],
   "source": [
    "#Check for rogue value\n",
    "index_names = weather_data[ weather_data['humidity'] > 100 ].index\n",
    "index_names  \n",
    "# drop these row indexes\n",
    "# from dataFrame\n",
    "clean_city_data= weather_data.drop(index_names, inplace = False)\n"
   ]
  },
  {
   "cell_type": "markdown",
   "metadata": {},
   "source": [
    "## Plotting the Data\n",
    "* Use proper labeling of the plots using plot titles (including date of analysis) and axes labels.\n",
    "* Save the plotted figures as .pngs."
   ]
  },
  {
   "cell_type": "markdown",
   "metadata": {},
   "source": [
    "## Latitude vs. Temperature Plot"
   ]
  },
  {
   "cell_type": "code",
   "execution_count": 47,
   "metadata": {
    "scrolled": true
   },
   "outputs": [
    {
     "data": {
      "image/png": "[encoded data removed]",
      "text/plain": [
       "<Figure size 432x288 with 1 Axes>"
      ]
     },
     "metadata": {
      "needs_background": "light"
     },
     "output_type": "display_data"
    }
   ],
   "source": [
    "#plot and save file. Print UTC time \n",
    "x_values = clean_city_data['lat']\n",
    "y_values = clean_city_data['temp']\n",
    "plt.scatter(x_values,y_values)\n",
    "plt.xlabel('Latitude')\n",
    "plt.ylabel('Max Temperature')\n",
    "currenttime=(time.asctime())\n",
    "plt.title(\"Latitude vs Max Temp on  %s \" % currenttime)\n",
    "plt.savefig('Temp.png')\n",
    "plt.show()\n"
   ]
  },
  {
   "cell_type": "markdown",
   "metadata": {},
   "source": [
    "## Latitude vs. Humidity Plot"
   ]
  },
  {
   "cell_type": "code",
   "execution_count": 48,
   "metadata": {},
   "outputs": [
    {
     "data": {
      "image/png": "[encoded data removed]",
      "text/plain": [
       "<Figure size 432x288 with 1 Axes>"
      ]
     },
     "metadata": {
      "needs_background": "light"
     },
     "output_type": "display_data"
    }
   ],
   "source": [
    "x_values = clean_city_data['lat']\n",
    "y_values = clean_city_data['humidity']\n",
    "plt.scatter(x_values,y_values)\n",
    "plt.xlabel('Latitude')\n",
    "plt.ylabel('Humidity')\n",
    "plt.title(\"Latitude vs Humidity on %s\" % currenttime)\n",
    "plt.savefig('Humidity.png')\n",
    "plt.show()\n"
   ]
  },
  {
   "cell_type": "markdown",
   "metadata": {},
   "source": [
    "## Latitude vs. Cloudiness Plot"
   ]
  },
  {
   "cell_type": "code",
   "execution_count": 49,
   "metadata": {},
   "outputs": [
    {
     "data": {
      "image/png": "[encoded data removed]",
      "text/plain": [
       "<Figure size 432x288 with 1 Axes>"
      ]
     },
     "metadata": {
      "needs_background": "light"
     },
     "output_type": "display_data"
    }
   ],
   "source": [
    "x_values = clean_city_data['lat']\n",
    "y_values = clean_city_data['cloudiness']\n",
    "plt.scatter(x_values,y_values)\n",
    "plt.xlabel('Latitude')\n",
    "plt.ylabel('Cloudiness')\n",
    "plt.title(\"Latitude vs Cloudiness on  %s\" % currenttime)\n",
    "plt.savefig('Cloudiness.png')\n",
    "plt.show()\n"
   ]
  },
  {
   "cell_type": "markdown",
   "metadata": {},
   "source": [
    "## Latitude vs. Wind Speed Plot"
   ]
  },
  {
   "cell_type": "code",
   "execution_count": 50,
   "metadata": {},
   "outputs": [
    {
     "data": {
      "image/png": "[encoded data removed]",
      "text/plain": [
       "<Figure size 432x288 with 1 Axes>"
      ]
     },
     "metadata": {
      "needs_background": "light"
     },
     "output_type": "display_data"
    }
   ],
   "source": [
    "x_values = clean_city_data['lat']\n",
    "y_values = clean_city_data['windspeed']\n",
    "plt.scatter(x_values,y_values)\n",
    "plt.xlabel('Latitude')\n",
    "plt.ylabel('Windspeed')\n",
    "plt.title(\"Latitude vs Wind Speed on %s\" % currenttime)\n",
    "plt.savefig('Windspeed.png')\n",
    "plt.show()\n"
   ]
  },
  {
   "cell_type": "markdown",
   "metadata": {},
   "source": [
    "## Linear Regression"
   ]
  },
  {
   "cell_type": "code",
   "execution_count": 51,
   "metadata": {},
   "outputs": [],
   "source": [
    "index_names = clean_city_data[ clean_city_data['lat'] <0 ].index\n",
    "# drop these row indexes\n",
    "# from dataFrame\n",
    "clean_city_data_north= clean_city_data.drop(index_names, inplace = False)\n",
    "index_names = clean_city_data[ clean_city_data['lat'] >= 0 ].index\n",
    "# drop these row indexes\n",
    "# from dataFrame\n",
    "clean_city_data_south= clean_city_data.drop(index_names, inplace = False)\n"
   ]
  },
  {
   "cell_type": "markdown",
   "metadata": {},
   "source": [
    "####  Northern Hemisphere - Max Temp vs. Latitude Linear Regression"
   ]
  },
  {
   "cell_type": "code",
   "execution_count": 52,
   "metadata": {},
   "outputs": [
    {
     "data": {
      "image/png": "[encoded data removed]",
      "text/plain": [
       "<Figure size 432x288 with 1 Axes>"
      ]
     },
     "metadata": {
      "needs_background": "light"
     },
     "output_type": "display_data"
    }
   ],
   "source": [
    "x_values = clean_city_data_north['lat']\n",
    "y_values = clean_city_data_north['temp']\n",
    "(slope,intercept,rvalue,d,e,) = linregress(x_values, y_values)\n",
    "linregress(x_values, y_values)\n",
    "regress_values = x_values * slope + intercept\n",
    "line_eq = \"y = \" + str(round(slope,2)) + \"x + \" + str(round(intercept,2)) + \"  rvalue=\" +str(round(rvalue,2))\n",
    "plt.scatter(x_values,y_values)\n",
    "plt.plot(x_values,regress_values,\"r-\")\n",
    "plt.annotate(line_eq,(20,30),fontsize=15,color=\"red\")\n",
    "plt.xlabel('Latitude')\n",
    "plt.ylabel('Max Temperature')\n",
    "plt.xlim(0, 90)\n",
    "plt.ylim(-40, 40)\n",
    "currenttime=(time.time())\n",
    "plt.title(\"Latitude vs Max Temp on %s\" % currenttime)\n",
    "plt.savefig('Temp_North.png')\n",
    "plt.show()"
   ]
  },
  {
   "cell_type": "markdown",
   "metadata": {},
   "source": [
    "####  Southern Hemisphere - Max Temp vs. Latitude Linear Regression"
   ]
  },
  {
   "cell_type": "code",
   "execution_count": 53,
   "metadata": {},
   "outputs": [
    {
     "data": {
      "image/png": "[encoded data removed]",
      "text/plain": [
       "<Figure size 432x288 with 1 Axes>"
      ]
     },
     "metadata": {
      "needs_background": "light"
     },
     "output_type": "display_data"
    }
   ],
   "source": [
    "x_values = clean_city_data_south['lat']\n",
    "y_values = clean_city_data_south['temp']\n",
    "(slope,intercept,rvalue,d,e,) = linregress(x_values, y_values)\n",
    "linregress(x_values, y_values)\n",
    "regress_values = x_values * slope + intercept\n",
    "line_eq = \"y = \" + str(round(slope,2)) + \"x + \" + str(round(intercept,2)) + \"  rvalue=\" +str(round(rvalue,2))\n",
    "plt.scatter(x_values,y_values)\n",
    "plt.plot(x_values,regress_values,\"r-\")\n",
    "plt.annotate(line_eq,(-80,30),fontsize=15,color=\"red\")\n",
    "plt.xlabel('Latitude')\n",
    "plt.ylabel('Max Temperature')\n",
    "plt.xlim(-90, 0)\n",
    "plt.ylim(-40, 40)\n",
    "currenttime=(time.time())\n",
    "plt.title(\"Latitude vs Max Temp on %s\" % (currenttime))\n",
    "plt.savefig('Temp_South.png')\n",
    "plt.show()"
   ]
  },
  {
   "cell_type": "markdown",
   "metadata": {},
   "source": [
    "####  Northern Hemisphere - Humidity (%) vs. Latitude Linear Regression"
   ]
  },
  {
   "cell_type": "code",
   "execution_count": 54,
   "metadata": {},
   "outputs": [
    {
     "data": {
      "image/png": "[encoded data removed]",
      "text/plain": [
       "<Figure size 432x288 with 1 Axes>"
      ]
     },
     "metadata": {
      "needs_background": "light"
     },
     "output_type": "display_data"
    }
   ],
   "source": [
    "x_values = clean_city_data_north['lat']\n",
    "y_values = clean_city_data_north['humidity']\n",
    "(slope,intercept,rvalue,d,e,) = linregress(x_values, y_values)\n",
    "linregress(x_values, y_values)\n",
    "regress_values = x_values * slope + intercept\n",
    "line_eq = \"y = \" + str(round(slope,2)) + \"x + \" + str(round(intercept,2)) + \"  rvalue=\" +str(round(rvalue,2))\n",
    "plt.scatter(x_values,y_values)\n",
    "plt.plot(x_values,regress_values,\"r-\")\n",
    "plt.annotate(line_eq,(10,90),fontsize=15,color=\"red\")\n",
    "plt.xlabel('Latitude')\n",
    "plt.ylabel('Humidity')\n",
    "plt.xlim(0, 90)\n",
    "plt.ylim(0, 100)\n",
    "currenttime=(time.time())\n",
    "plt.title(\"Latitude vs Humidity on %s\" % (currenttime))\n",
    "plt.savefig('Humidity_North.png')\n",
    "plt.show()"
   ]
  },
  {
   "cell_type": "markdown",
   "metadata": {},
   "source": [
    "####  Southern Hemisphere - Humidity (%) vs. Latitude Linear Regression"
   ]
  },
  {
   "cell_type": "code",
   "execution_count": 55,
   "metadata": {},
   "outputs": [
    {
     "data": {
      "image/png": "[encoded data removed]",
      "text/plain": [
       "<Figure size 432x288 with 1 Axes>"
      ]
     },
     "metadata": {
      "needs_background": "light"
     },
     "output_type": "display_data"
    }
   ],
   "source": [
    "x_values = clean_city_data_south['lat']\n",
    "y_values = clean_city_data_south['humidity']\n",
    "(slope,intercept,rvalue,d,e,) = linregress(x_values, y_values)\n",
    "linregress(x_values, y_values)\n",
    "regress_values = x_values * slope + intercept\n",
    "line_eq = \"y = \" + str(round(slope,2)) + \"x + \" + str(round(intercept,2)) + \"  rvalue=\" +str(round(rvalue,2))\n",
    "plt.scatter(x_values,y_values)\n",
    "plt.plot(x_values,regress_values,\"r-\")\n",
    "plt.annotate(line_eq,(-80,90),fontsize=15,color=\"red\")\n",
    "plt.xlabel('Latitude')\n",
    "plt.ylabel('Humidity')\n",
    "plt.xlim(-90, 0)\n",
    "plt.ylim(0, 100)\n",
    "currenttime=(time.time())\n",
    "plt.title(\"Latitude vs Humidity on %s\" % (currenttime))\n",
    "plt.savefig('Humidity_South.png')\n",
    "plt.show()"
   ]
  },
  {
   "cell_type": "markdown",
   "metadata": {},
   "source": [
    "####  Northern Hemisphere - Cloudiness (%) vs. Latitude Linear Regression"
   ]
  },
  {
   "cell_type": "code",
   "execution_count": 56,
   "metadata": {},
   "outputs": [
    {
     "data": {
      "image/png": "[encoded data removed]",
      "text/plain": [
       "<Figure size 432x288 with 1 Axes>"
      ]
     },
     "metadata": {
      "needs_background": "light"
     },
     "output_type": "display_data"
    }
   ],
   "source": [
    "x_values = clean_city_data_north['lat']\n",
    "y_values = clean_city_data_north['cloudiness']\n",
    "(slope,intercept,rvalue,d,e,) = linregress(x_values, y_values)\n",
    "linregress(x_values, y_values)\n",
    "regress_values = x_values * slope + intercept\n",
    "line_eq = \"y = \" + str(round(slope,2)) + \"x + \" + str(round(intercept,2)) + \"  rvalue=\" +str(round(rvalue,2))\n",
    "plt.scatter(x_values,y_values)\n",
    "plt.plot(x_values,regress_values,\"r-\")\n",
    "plt.annotate(line_eq,(10,20),fontsize=15,color=\"red\")\n",
    "plt.xlabel('Latitude')\n",
    "plt.ylabel('Cloudiness %')\n",
    "plt.xlim(0, 90)\n",
    "plt.ylim(0, 110)\n",
    "currenttime=(time.time())\n",
    "plt.title(\"Latitude vs Cloudiness on %s\" % (currenttime))\n",
    "plt.savefig('Cloudiness_North.png')\n",
    "plt.show()"
   ]
  },
  {
   "cell_type": "markdown",
   "metadata": {},
   "source": [
    "####  Southern Hemisphere - Cloudiness (%) vs. Latitude Linear Regression"
   ]
  },
  {
   "cell_type": "code",
   "execution_count": 57,
   "metadata": {},
   "outputs": [
    {
     "data": {
      "image/png": "[encoded data removed]",
      "text/plain": [
       "<Figure size 432x288 with 1 Axes>"
      ]
     },
     "metadata": {
      "needs_background": "light"
     },
     "output_type": "display_data"
    }
   ],
   "source": [
    "x_values = clean_city_data_south['lat']\n",
    "y_values = clean_city_data_south['humidity']\n",
    "(slope,intercept,rvalue,d,e,) = linregress(x_values, y_values)\n",
    "linregress(x_values, y_values)\n",
    "regress_values = x_values * slope + intercept\n",
    "line_eq = \"y = \" + str(round(slope,2)) + \"x + \" + str(round(intercept,2)) + \"  rvalue=\" +str(round(rvalue,2))\n",
    "plt.scatter(x_values,y_values)\n",
    "plt.plot(x_values,regress_values,\"r-\")\n",
    "plt.annotate(line_eq,(-80,10),fontsize=15,color=\"red\")\n",
    "plt.xlabel('Latitude')\n",
    "plt.ylabel('Cloudiness %')\n",
    "plt.xlim(-90, 0)\n",
    "plt.ylim(0, 110)\n",
    "currenttime=(time.time())\n",
    "plt.title(\"Latitude vs Cloudiness on %s\" % (currenttime))\n",
    "plt.savefig('Cloudiness_South.png')\n",
    "plt.show()"
   ]
  },
  {
   "cell_type": "markdown",
   "metadata": {},
   "source": [
    "####  Northern Hemisphere - Wind Speed (mph) vs. Latitude Linear Regression"
   ]
  },
  {
   "cell_type": "code",
   "execution_count": 58,
   "metadata": {},
   "outputs": [
    {
     "data": {
      "image/png": "[encoded data removed]",
      "text/plain": [
       "<Figure size 432x288 with 1 Axes>"
      ]
     },
     "metadata": {
      "needs_background": "light"
     },
     "output_type": "display_data"
    }
   ],
   "source": [
    "x_values = clean_city_data_north['lat']\n",
    "y_values = clean_city_data_north['windspeed']\n",
    "(slope,intercept,rvalue,d,e,) = linregress(x_values, y_values)\n",
    "linregress(x_values, y_values)\n",
    "regress_values = x_values * slope + intercept\n",
    "line_eq = \"y = \" + str(round(slope,2)) + \"x + \" + str(round(intercept,2)) + \"  rvalue=\" +str(round(rvalue,2))\n",
    "plt.scatter(x_values,y_values)\n",
    "plt.plot(x_values,regress_values,\"r-\")\n",
    "plt.annotate(line_eq,(10,y_values.max()),fontsize=15,color=\"red\")\n",
    "plt.xlabel('Latitude')\n",
    "plt.ylabel('Wind Speed')\n",
    "plt.xlim(0, 90)\n",
    "plt.ylim(0, y_values.max()+1)\n",
    "currenttime=(time.time())\n",
    "plt.title(\"Latitude vs Speed on %s\" % (currenttime))\n",
    "plt.savefig('WindSpeed_North.png')\n",
    "plt.show()"
   ]
  },
  {
   "cell_type": "markdown",
   "metadata": {},
   "source": [
    "####  Southern Hemisphere - Wind Speed (mph) vs. Latitude Linear Regression"
   ]
  },
  {
   "cell_type": "code",
   "execution_count": 59,
   "metadata": {},
   "outputs": [
    {
     "data": {
      "image/png": "[encoded data removed]",
      "text/plain": [
       "<Figure size 432x288 with 1 Axes>"
      ]
     },
     "metadata": {
      "needs_background": "light"
     },
     "output_type": "display_data"
    }
   ],
   "source": [
    "x_values = clean_city_data_south['lat']\n",
    "y_values = clean_city_data_south['windspeed']\n",
    "(slope,intercept,rvalue,d,e,) = linregress(x_values, y_values)\n",
    "linregress(x_values, y_values)\n",
    "regress_values = x_values * slope + intercept\n",
    "line_eq = \"y = \" + str(round(slope,2)) + \"x + \" + str(round(intercept,2)) + \"  rvalue=\" +str(round(rvalue,2))\n",
    "plt.scatter(x_values,y_values)\n",
    "plt.plot(x_values,regress_values,\"r-\")\n",
    "plt.annotate(line_eq,(-80,10),fontsize=15,color=\"red\")\n",
    "plt.xlabel('Latitude')\n",
    "plt.ylabel('Windspeed')\n",
    "plt.xlim(-90, 0)\n",
    "plt.ylim(0, y_values.max()+1)\n",
    "currenttime=(time.time())\n",
    "plt.title(\"Latitude vs wind speed on %s\" % (currenttime))\n",
    "plt.savefig('WindSpeed_South.png')\n",
    "plt.show()"
   ]
  },
  {
   "cell_type": "code",
   "execution_count": null,
   "metadata": {},
   "outputs": [],
   "source": []
  },
  {
   "cell_type": "code",
   "execution_count": null,
   "metadata": {},
   "outputs": [],
   "source": []
  },
  {
   "cell_type": "code",
   "execution_count": null,
   "metadata": {},
   "outputs": [],
   "source": []
  }
 ],
 "metadata": {
  "anaconda-cloud": {},
  "kernel_info": {
   "name": "python3"
  },
  "kernelspec": {
   "display_name": "Python 3",
   "language": "python",
   "name": "python3"
  },
  "language_info": {
   "codemirror_mode": {
    "name": "ipython",
    "version": 3
   },
   "file_extension": ".py",
   "mimetype": "text/x-python",
   "name": "python",
   "nbconvert_exporter": "python",
   "pygments_lexer": "ipython3",
   "version": "3.8.8"
  },
  "latex_envs": {
   "LaTeX_envs_menu_present": true,
   "autoclose": false,
   "autocomplete": true,
   "bibliofile": "biblio.bib",
   "cite_by": "apalike",
   "current_citInitial": 1,
   "eqLabelWithNumbers": true,
   "eqNumInitial": 1,
   "hotkeys": {
    "equation": "Ctrl-E",
    "itemize": "Ctrl-I"
   },
   "labels_anchors": false,
   "latex_user_defs": false,
   "report_style_numbering": false,
   "user_envs_cfg": false
  },
  "nteract": {
   "version": "0.12.3"
  }
 },
 "nbformat": 4,
 "nbformat_minor": 2
}
